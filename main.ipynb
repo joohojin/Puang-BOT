{
  "cells": [
    {
      "cell_type": "markdown",
      "metadata": {},
      "source": [
        "# 챗봇 실시간 구현"
      ]
    },
    {
      "cell_type": "code",
      "execution_count": null,
      "metadata": {},
      "outputs": [],
      "source": [
        "%pip install schedule"
      ]
    },
    {
      "cell_type": "markdown",
      "metadata": {},
      "source": [
        "# 디스코드 챗봇 구현"
      ]
    },
    {
      "cell_type": "code",
      "execution_count": 19,
      "metadata": {},
      "outputs": [],
      "source": [
        "import discord\n",
        "from discord.ext import commands\n",
        "from discord.ext.commands import Bot\n",
        "import os\n",
        "import youtube_dl\n",
        "import asyncio\n",
        "import nacl\n",
        "import pandas as pd\n",
        "import time\n",
        "\n",
        "import datetime"
      ]
    },
    {
      "cell_type": "code",
      "execution_count": 20,
      "metadata": {},
      "outputs": [],
      "source": [
        "game = discord.Game(\"퐝퐝이\") \n",
        "\n",
        "intents = discord.Intents.all()\n",
        "\n",
        "bot = commands.Bot(command_prefix='푸앙아 ', status=discord.Status.online, activity=game, intents=intents)"
      ]
    },
    {
      "cell_type": "code",
      "execution_count": 21,
      "metadata": {},
      "outputs": [],
      "source": [
        "@bot.event\n",
        "async def on_ready():\n",
        "    print('다음으로 로그인합니다 : {0.user}'.format(bot))"
      ]
    },
    {
      "cell_type": "code",
      "execution_count": 22,
      "metadata": {},
      "outputs": [],
      "source": [
        "with open(\"data/puang-art.txt\", \"r\", encoding=\"utf-8\") as f:\n",
        "    data = f.read()"
      ]
    },
    {
      "cell_type": "code",
      "execution_count": 23,
      "metadata": {},
      "outputs": [],
      "source": [
        "# 이스터에그\n",
        "@bot.command()\n",
        "async def 푸앙이(ctx):\n",
        "    await ctx.send(data)\n",
        "\n",
        "@bot.command()\n",
        "async def 애옹(ctx):\n",
        "    await ctx.send(\"https://media.discordapp.net/attachments/844584876904677440/895539776709607454/95261-20211007-140653-000.gif\")"
      ]
    },
    {
      "cell_type": "code",
      "execution_count": 24,
      "metadata": {},
      "outputs": [],
      "source": [
        "# 음악\n",
        "@bot.command()\n",
        "async def 들어와(ctx):\n",
        "    if ctx.author.voice and ctx.author.voice.channel:\n",
        "        channel = ctx.author.voice.channel\n",
        "        await channel.connect()\n",
        "        await ctx.send(\"자 드가자~\")\n",
        "    else:\n",
        "        await ctx.send(\"음성 채널에 먼저 들어가주세요!\")\n",
        "\n",
        "@bot.command()\n",
        "async def 노래틀어줘(ctx, *, search):\n",
        "    channel = ctx.author.voice.channel\n",
        "    if bot.voice_clients != []:\n",
        "        await ctx.send(\"둠칫 두둠칫! \" + str(bot.voice_clients[0].channel) + \"에 연결되었습니다!\")\n",
        "\n",
        "        ydl_opts = {'format': 'bestaudio'}\n",
        "        FFMPEG_OPTIONS = {'before_options': '-reconnect 1 -reconnect_streamed 1 -reconnect_delay_max 5', 'options': '-vn'}\n",
        "        with youtube_dl.YoutubeDL(ydl_opts) as ydl:\n",
        "            info = ydl.extract_info(\"ytsearch:\" + search, download=False)\n",
        "            URL = info['entries'][0]['formats'][0]['url']\n",
        "        voice = bot.voice_clients[0]\n",
        "        voice.play(discord.FFmpegPCMAudio(URL, **FFMPEG_OPTIONS))\n",
        "    else:\n",
        "        await channel.connect()\n",
        "        await ctx.send(\"둠칫 두둠칫! \" + str(bot.voice_clients[0].channel) + \"에 연결되었습니다!\")\n",
        "\n",
        "        ydl_opts = {'format': 'bestaudio'}\n",
        "        FFMPEG_OPTIONS = {'before_options': '-reconnect 1 -reconnect_streamed 1 -reconnect_delay_max 5', 'options': '-vn'}\n",
        "        with youtube_dl.YoutubeDL(ydl_opts) as ydl:\n",
        "            info = ydl.extract_info(\"ytsearch:\" + search, download=False)\n",
        "            URL = info['entries'][0]['formats'][0]['url']\n",
        "        voice = bot.voice_clients[0]\n",
        "        voice.play(discord.FFmpegPCMAudio(URL, **FFMPEG_OPTIONS))\n",
        "    await ctx.send(\"지금 틀고 있는 노래는 \" + info['entries'][0]['title'] + \"입니다!\")\n",
        "        \n",
        "@bot.command()\n",
        "async def 일시정지(ctx):\n",
        "    if not bot.voice_clients[0].is_paused():\n",
        "        bot.voice_clients[0].pause()\n",
        "        await ctx.send(\"일시정지!\")\n",
        "    else:\n",
        "        await ctx.send(\"이미 일시정지 되어있어요!\")\n",
        "\n",
        "@bot.command()\n",
        "async def 재생(ctx):\n",
        "    if bot.voice_clients[0].is_paused():\n",
        "        bot.voice_clients[0].resume()\n",
        "        await ctx.send(\"재생!\")\n",
        "    else:\n",
        "        await ctx.send(\"이미 재생중이에요!\")\n",
        "\n",
        "@bot.command()\n",
        "async def 정지(ctx):\n",
        "    if bot.voice_clients[0].is_playing():\n",
        "        bot.voice_clients[0].stop()\n",
        "        await ctx.send(\"정지!\")\n",
        "    else:\n",
        "        await ctx.send(\"아무것도 재생중이지 않아요!\")\n",
        "\n",
        "@bot.command()\n",
        "async def 나가(ctx):\n",
        "    if bot.voice_clients != []:\n",
        "        await bot.voice_clients[0].disconnect()\n",
        "        await ctx.send(\"흐잉...\")\n",
        "    else:\n",
        "        await ctx.send(\"저는 아직 아무 채널에도 들어가있지 않아요!\")"
      ]
    },
    {
      "cell_type": "code",
      "execution_count": 25,
      "metadata": {},
      "outputs": [],
      "source": [
        "# 챗봇\n",
        "@bot.command()\n",
        "async def 대화(ctx, *, message):  \n",
        "    # 푸앙 메시지를 입력하면 chat(메시지) 함수를 출력합니다.\n",
        "    # 이제 답장으로 푸앙이가 말할 수 있게 되었습니다.\n",
        "    await ctx.reply(cb.chat(message))\n"
      ]
    },
    {
      "cell_type": "code",
      "execution_count": 26,
      "metadata": {},
      "outputs": [],
      "source": [
        "# 명령어가 없을 때\n",
        "@bot.event\n",
        "async def on_command_error(ctx, error):\n",
        "    if isinstance(error, commands.CommandNotFound):\n",
        "        await ctx.send(\"그런 명령어는 존재하지 않아요!\")"
      ]
    },
    {
      "cell_type": "markdown",
      "metadata": {},
      "source": [
        "# 데이터 학습 및 저장 구현"
      ]
    },
    {
      "cell_type": "code",
      "execution_count": 27,
      "metadata": {},
      "outputs": [],
      "source": [
        "# 기존의 ChatBotData.csv 파일을 읽어온다.\n",
        "chatbot_data = pd.read_csv('data/ChatBotData.csv')\n",
        "\n",
        "# data\\ChatBotData-Old에 ChatBotData.csv의 이름을 ChatBotData(오늘의 날짜 및 시간).csv로 변경하여 저장해주는 함수\n",
        "def save_old_chatbot_data():\n",
        "    today = datetime.datetime.today()\n",
        "    today = today.strftime(\"%Y-%m-%d-%H-%M-%S\")\n",
        "    chatbot_data.to_csv('data/ChatBotData-Old/ChatBotData({}).csv'.format(today), index=False)\n",
        "\n",
        "\n",
        "# 만약 data\\ChatBotData-Old에 백업 csv 파일이 10개를 초과하면 만들어진 날짜가 가장 오래된 백업 csv파일을 삭제하는 함수\n",
        "def delete_old_chatbot_data():\n",
        "    file_list = os.listdir('data/ChatBotData-Old')\n",
        "    if len(file_list) > 10:\n",
        "        # len(file_list) - 10은 백업 csv 파일이 10개를 초과하는 만큼의 숫자\n",
        "        for i in range(len(file_list) - 10):\n",
        "            # 백업 csv 파일이 만들어진 날짜가 가장 오래된 파일을 삭제\n",
        "            os.remove('data/ChatBotData-Old/' + file_list[i])"
      ]
    },
    {
      "cell_type": "code",
      "execution_count": 28,
      "metadata": {},
      "outputs": [],
      "source": [
        "# 챗봇에게 질문과 답변을 가르치는 함수\n",
        "@bot.command()\n",
        "async def 가르치기(ctx):\n",
        "    # 먼저 디스코드 사용자에게 질문을 채팅으로 물어봅니다.\n",
        "    await ctx.send(\"뭐라고 물어보실 건가요?\")\n",
        "    # 사용자가 채팅으로 답변을 입력할 때까지 기다립니다.\n",
        "    def check(m):\n",
        "        return m.author == ctx.author and m.channel == ctx.channel\n",
        "\n",
        "    try:\n",
        "        msg = await bot.wait_for('message', timeout=60.0, check=check)\n",
        "    except asyncio.TimeoutError:\n",
        "        await ctx.send('시간이 초과되었습니다.')\n",
        "    else:\n",
        "        # 사용자가 입력한 질문을 question에 저장합니다.\n",
        "        question = msg.content\n",
        "    # 받아온 question에 대한 함께 답변을 물어봅니다.\n",
        "    await ctx.send(question + \"에 대한 답변은 무엇인가요?\")\n",
        "    # 사용자가 입력한 답변을 받아옵니다.\n",
        "    \n",
        "    try:\n",
        "        msg = await bot.wait_for('message', timeout=60.0, check=check)\n",
        "    except asyncio.TimeoutError:\n",
        "        await ctx.send('시간이 초과되었습니다.')\n",
        "    else:\n",
        "        # 사용자가 입력한 답변을 answer에 저장합니다.\n",
        "        answer = msg.content\n",
        "    # 받아온 질문과 답변을 quastion,answer,날짜(사용자이름) 으로ChatBotData.csv에 추가합니다.\n",
        "    today = datetime.datetime.today()\n",
        "    today = today.strftime(\"%Y-%m-%d\")\n",
        "    chatbot_data.loc[len(chatbot_data)] = [question, answer, today + \"(\" + ctx.author.name + \")\"]\n",
        "    # ChatBotData.csv를 저장합니다.\n",
        "    chatbot_data.to_csv('data/ChatBotData.csv', index=False)\n",
        "    # 질문과 답변을 모두 불러와 추가까지 하였다면 성공적으로 추가되었다는 메시지를 출력합니다.\n",
        "    await ctx.send(\"질문과 답변이 추가되었습니다!\")"
      ]
    },
    {
      "cell_type": "markdown",
      "metadata": {},
      "source": [
        "# main부분"
      ]
    },
    {
      "cell_type": "code",
      "execution_count": 29,
      "metadata": {},
      "outputs": [
        {
          "name": "stdout",
          "output_type": "stream",
          "text": [
            "Requirement already satisfied: nest_asyncio in c:\\users\\administrator\\appdata\\roaming\\python\\python39\\site-packages (1.5.5)\n",
            "Note: you may need to restart the kernel to use updated packages.\n"
          ]
        }
      ],
      "source": [
        "# Jupyter Notebook에서는 이 코드를 실행하세요\n",
        "%pip install nest_asyncio \n",
        "import nest_asyncio \n",
        "nest_asyncio.apply()"
      ]
    },
    {
      "cell_type": "code",
      "execution_count": 30,
      "metadata": {},
      "outputs": [],
      "source": [
        "# 먼저 기존의 ChatBotData.csv를 data\\ChatBotData-Old에 저장합니다.\n",
        "save_old_chatbot_data()\n",
        "\n",
        "# 만약 data\\ChatBotData-Old에 백업 csv 파일이 10개를 초과하면 만들어진 날짜가 가장 오래된 백업 csv파일을 삭제합니다.\n",
        "delete_old_chatbot_data()\n",
        "\n"
      ]
    },
    {
      "cell_type": "code",
      "execution_count": 32,
      "metadata": {},
      "outputs": [
        {
          "name": "stderr",
          "output_type": "stream",
          "text": [
            "[2022-12-13 00:05:54] [INFO    ] discord.client: logging in using static token\n",
            "[2022-12-13 00:05:54] [INFO    ] discord.client: logging in using static token\n",
            "[2022-12-13 00:05:54] [INFO    ] discord.client: logging in using static token\n",
            "[2022-12-13 00:05:54] [INFO    ] discord.client: logging in using static token\n",
            "[2022-12-13 00:05:54] [INFO    ] discord.client: logging in using static token\n",
            "[2022-12-13 00:05:54] [INFO    ] discord.client: logging in using static token\n",
            "INFO:discord.client:logging in using static token\n"
          ]
        },
        {
          "ename": "RuntimeError",
          "evalue": "Session is closed",
          "output_type": "error",
          "traceback": [
            "\u001b[1;31m---------------------------------------------------------------------------\u001b[0m",
            "\u001b[1;31mRuntimeError\u001b[0m                              Traceback (most recent call last)",
            "Cell \u001b[1;32mIn [32], line 21\u001b[0m\n\u001b[0;32m     18\u001b[0m \u001b[39mif\u001b[39;00m \u001b[39m__name__\u001b[39m \u001b[39m==\u001b[39m \u001b[39m\"\u001b[39m\u001b[39m__main__\u001b[39m\u001b[39m\"\u001b[39m:\n\u001b[0;32m     20\u001b[0m     \u001b[39mwhile\u001b[39;00m \u001b[39mTrue\u001b[39;00m:\n\u001b[1;32m---> 21\u001b[0m         schedule\u001b[39m.\u001b[39mrun_pending()\n\u001b[0;32m     22\u001b[0m         time\u001b[39m.\u001b[39msleep(\u001b[39m1\u001b[39m)\n",
            "File \u001b[1;32mc:\\Users\\Administrator\\miniconda3\\lib\\site-packages\\schedule\\__init__.py:780\u001b[0m, in \u001b[0;36mrun_pending\u001b[1;34m()\u001b[0m\n\u001b[0;32m    776\u001b[0m \u001b[39mdef\u001b[39;00m \u001b[39mrun_pending\u001b[39m() \u001b[39m-\u001b[39m\u001b[39m>\u001b[39m \u001b[39mNone\u001b[39;00m:\n\u001b[0;32m    777\u001b[0m     \u001b[39m\"\"\"Calls :meth:`run_pending <Scheduler.run_pending>` on the\u001b[39;00m\n\u001b[0;32m    778\u001b[0m \u001b[39m    :data:`default scheduler instance <default_scheduler>`.\u001b[39;00m\n\u001b[0;32m    779\u001b[0m \u001b[39m    \"\"\"\u001b[39;00m\n\u001b[1;32m--> 780\u001b[0m     default_scheduler\u001b[39m.\u001b[39;49mrun_pending()\n",
            "File \u001b[1;32mc:\\Users\\Administrator\\miniconda3\\lib\\site-packages\\schedule\\__init__.py:100\u001b[0m, in \u001b[0;36mScheduler.run_pending\u001b[1;34m(self)\u001b[0m\n\u001b[0;32m     98\u001b[0m runnable_jobs \u001b[39m=\u001b[39m (job \u001b[39mfor\u001b[39;00m job \u001b[39min\u001b[39;00m \u001b[39mself\u001b[39m\u001b[39m.\u001b[39mjobs \u001b[39mif\u001b[39;00m job\u001b[39m.\u001b[39mshould_run)\n\u001b[0;32m     99\u001b[0m \u001b[39mfor\u001b[39;00m job \u001b[39min\u001b[39;00m \u001b[39msorted\u001b[39m(runnable_jobs):\n\u001b[1;32m--> 100\u001b[0m     \u001b[39mself\u001b[39;49m\u001b[39m.\u001b[39;49m_run_job(job)\n",
            "File \u001b[1;32mc:\\Users\\Administrator\\miniconda3\\lib\\site-packages\\schedule\\__init__.py:172\u001b[0m, in \u001b[0;36mScheduler._run_job\u001b[1;34m(self, job)\u001b[0m\n\u001b[0;32m    171\u001b[0m \u001b[39mdef\u001b[39;00m \u001b[39m_run_job\u001b[39m(\u001b[39mself\u001b[39m, job: \u001b[39m\"\u001b[39m\u001b[39mJob\u001b[39m\u001b[39m\"\u001b[39m) \u001b[39m-\u001b[39m\u001b[39m>\u001b[39m \u001b[39mNone\u001b[39;00m:\n\u001b[1;32m--> 172\u001b[0m     ret \u001b[39m=\u001b[39m job\u001b[39m.\u001b[39;49mrun()\n\u001b[0;32m    173\u001b[0m     \u001b[39mif\u001b[39;00m \u001b[39misinstance\u001b[39m(ret, CancelJob) \u001b[39mor\u001b[39;00m ret \u001b[39mis\u001b[39;00m CancelJob:\n\u001b[0;32m    174\u001b[0m         \u001b[39mself\u001b[39m\u001b[39m.\u001b[39mcancel_job(job)\n",
            "File \u001b[1;32mc:\\Users\\Administrator\\miniconda3\\lib\\site-packages\\schedule\\__init__.py:661\u001b[0m, in \u001b[0;36mJob.run\u001b[1;34m(self)\u001b[0m\n\u001b[0;32m    658\u001b[0m     \u001b[39mreturn\u001b[39;00m CancelJob\n\u001b[0;32m    660\u001b[0m logger\u001b[39m.\u001b[39mdebug(\u001b[39m\"\u001b[39m\u001b[39mRunning job \u001b[39m\u001b[39m%s\u001b[39;00m\u001b[39m\"\u001b[39m, \u001b[39mself\u001b[39m)\n\u001b[1;32m--> 661\u001b[0m ret \u001b[39m=\u001b[39m \u001b[39mself\u001b[39;49m\u001b[39m.\u001b[39;49mjob_func()\n\u001b[0;32m    662\u001b[0m \u001b[39mself\u001b[39m\u001b[39m.\u001b[39mlast_run \u001b[39m=\u001b[39m datetime\u001b[39m.\u001b[39mdatetime\u001b[39m.\u001b[39mnow()\n\u001b[0;32m    663\u001b[0m \u001b[39mself\u001b[39m\u001b[39m.\u001b[39m_schedule_next_run()\n",
            "Cell \u001b[1;32mIn [31], line 14\u001b[0m, in \u001b[0;36mjob\u001b[1;34m()\u001b[0m\n\u001b[0;32m     11\u001b[0m clear_output()\n\u001b[0;32m     13\u001b[0m \u001b[39m# 봇을 실행합니다. '여기에 토큰 입력' 부분에 토큰을 입력하세요.\u001b[39;00m\n\u001b[1;32m---> 14\u001b[0m bot\u001b[39m.\u001b[39;49mrun(\u001b[39m'\u001b[39;49m\u001b[39mMTA0MjYxODA5MDA2NTc3NjY5MQ.GTxkeJ.F4BHFKAain8POsF1zLiuX9h9vnshfexE7RK7Is\u001b[39;49m\u001b[39m'\u001b[39;49m)\n",
            "File \u001b[1;32mc:\\Users\\Administrator\\miniconda3\\lib\\site-packages\\discord\\client.py:828\u001b[0m, in \u001b[0;36mClient.run\u001b[1;34m(self, token, reconnect, log_handler, log_formatter, log_level, root_logger)\u001b[0m\n\u001b[0;32m    820\u001b[0m     utils\u001b[39m.\u001b[39msetup_logging(\n\u001b[0;32m    821\u001b[0m         handler\u001b[39m=\u001b[39mlog_handler,\n\u001b[0;32m    822\u001b[0m         formatter\u001b[39m=\u001b[39mlog_formatter,\n\u001b[0;32m    823\u001b[0m         level\u001b[39m=\u001b[39mlog_level,\n\u001b[0;32m    824\u001b[0m         root\u001b[39m=\u001b[39mroot_logger,\n\u001b[0;32m    825\u001b[0m     )\n\u001b[0;32m    827\u001b[0m \u001b[39mtry\u001b[39;00m:\n\u001b[1;32m--> 828\u001b[0m     asyncio\u001b[39m.\u001b[39;49mrun(runner())\n\u001b[0;32m    829\u001b[0m \u001b[39mexcept\u001b[39;00m \u001b[39mKeyboardInterrupt\u001b[39;00m:\n\u001b[0;32m    830\u001b[0m     \u001b[39m# nothing to do here\u001b[39;00m\n\u001b[0;32m    831\u001b[0m     \u001b[39m# `asyncio.run` handles the loop cleanup\u001b[39;00m\n\u001b[0;32m    832\u001b[0m     \u001b[39m# and `self.start` closes all sockets and the HTTPClient instance.\u001b[39;00m\n\u001b[0;32m    833\u001b[0m     \u001b[39mreturn\u001b[39;00m\n",
            "File \u001b[1;32m~\\AppData\\Roaming\\Python\\Python39\\site-packages\\nest_asyncio.py:35\u001b[0m, in \u001b[0;36m_patch_asyncio.<locals>.run\u001b[1;34m(main, debug)\u001b[0m\n\u001b[0;32m     33\u001b[0m task \u001b[39m=\u001b[39m asyncio\u001b[39m.\u001b[39mensure_future(main)\n\u001b[0;32m     34\u001b[0m \u001b[39mtry\u001b[39;00m:\n\u001b[1;32m---> 35\u001b[0m     \u001b[39mreturn\u001b[39;00m loop\u001b[39m.\u001b[39;49mrun_until_complete(task)\n\u001b[0;32m     36\u001b[0m \u001b[39mfinally\u001b[39;00m:\n\u001b[0;32m     37\u001b[0m     \u001b[39mif\u001b[39;00m \u001b[39mnot\u001b[39;00m task\u001b[39m.\u001b[39mdone():\n",
            "File \u001b[1;32m~\\AppData\\Roaming\\Python\\Python39\\site-packages\\nest_asyncio.py:89\u001b[0m, in \u001b[0;36m_patch_loop.<locals>.run_until_complete\u001b[1;34m(self, future)\u001b[0m\n\u001b[0;32m     86\u001b[0m \u001b[39mif\u001b[39;00m \u001b[39mnot\u001b[39;00m f\u001b[39m.\u001b[39mdone():\n\u001b[0;32m     87\u001b[0m     \u001b[39mraise\u001b[39;00m \u001b[39mRuntimeError\u001b[39;00m(\n\u001b[0;32m     88\u001b[0m         \u001b[39m'\u001b[39m\u001b[39mEvent loop stopped before Future completed.\u001b[39m\u001b[39m'\u001b[39m)\n\u001b[1;32m---> 89\u001b[0m \u001b[39mreturn\u001b[39;00m f\u001b[39m.\u001b[39;49mresult()\n",
            "File \u001b[1;32mc:\\Users\\Administrator\\miniconda3\\lib\\asyncio\\futures.py:201\u001b[0m, in \u001b[0;36mFuture.result\u001b[1;34m(self)\u001b[0m\n\u001b[0;32m    199\u001b[0m \u001b[39mself\u001b[39m\u001b[39m.\u001b[39m__log_traceback \u001b[39m=\u001b[39m \u001b[39mFalse\u001b[39;00m\n\u001b[0;32m    200\u001b[0m \u001b[39mif\u001b[39;00m \u001b[39mself\u001b[39m\u001b[39m.\u001b[39m_exception \u001b[39mis\u001b[39;00m \u001b[39mnot\u001b[39;00m \u001b[39mNone\u001b[39;00m:\n\u001b[1;32m--> 201\u001b[0m     \u001b[39mraise\u001b[39;00m \u001b[39mself\u001b[39m\u001b[39m.\u001b[39m_exception\n\u001b[0;32m    202\u001b[0m \u001b[39mreturn\u001b[39;00m \u001b[39mself\u001b[39m\u001b[39m.\u001b[39m_result\n",
            "File \u001b[1;32mc:\\Users\\Administrator\\miniconda3\\lib\\asyncio\\tasks.py:256\u001b[0m, in \u001b[0;36mTask.__step\u001b[1;34m(***failed resolving arguments***)\u001b[0m\n\u001b[0;32m    252\u001b[0m \u001b[39mtry\u001b[39;00m:\n\u001b[0;32m    253\u001b[0m     \u001b[39mif\u001b[39;00m exc \u001b[39mis\u001b[39;00m \u001b[39mNone\u001b[39;00m:\n\u001b[0;32m    254\u001b[0m         \u001b[39m# We use the `send` method directly, because coroutines\u001b[39;00m\n\u001b[0;32m    255\u001b[0m         \u001b[39m# don't have `__iter__` and `__next__` methods.\u001b[39;00m\n\u001b[1;32m--> 256\u001b[0m         result \u001b[39m=\u001b[39m coro\u001b[39m.\u001b[39;49msend(\u001b[39mNone\u001b[39;49;00m)\n\u001b[0;32m    257\u001b[0m     \u001b[39melse\u001b[39;00m:\n\u001b[0;32m    258\u001b[0m         result \u001b[39m=\u001b[39m coro\u001b[39m.\u001b[39mthrow(exc)\n",
            "File \u001b[1;32mc:\\Users\\Administrator\\miniconda3\\lib\\site-packages\\discord\\client.py:817\u001b[0m, in \u001b[0;36mClient.run.<locals>.runner\u001b[1;34m()\u001b[0m\n\u001b[0;32m    815\u001b[0m \u001b[39masync\u001b[39;00m \u001b[39mdef\u001b[39;00m \u001b[39mrunner\u001b[39m():\n\u001b[0;32m    816\u001b[0m     \u001b[39masync\u001b[39;00m \u001b[39mwith\u001b[39;00m \u001b[39mself\u001b[39m:\n\u001b[1;32m--> 817\u001b[0m         \u001b[39mawait\u001b[39;00m \u001b[39mself\u001b[39m\u001b[39m.\u001b[39mstart(token, reconnect\u001b[39m=\u001b[39mreconnect)\n",
            "File \u001b[1;32mc:\\Users\\Administrator\\miniconda3\\lib\\site-packages\\discord\\client.py:745\u001b[0m, in \u001b[0;36mClient.start\u001b[1;34m(self, token, reconnect)\u001b[0m\n\u001b[0;32m    724\u001b[0m \u001b[39masync\u001b[39;00m \u001b[39mdef\u001b[39;00m \u001b[39mstart\u001b[39m(\u001b[39mself\u001b[39m, token: \u001b[39mstr\u001b[39m, \u001b[39m*\u001b[39m, reconnect: \u001b[39mbool\u001b[39m \u001b[39m=\u001b[39m \u001b[39mTrue\u001b[39;00m) \u001b[39m-\u001b[39m\u001b[39m>\u001b[39m \u001b[39mNone\u001b[39;00m:\n\u001b[0;32m    725\u001b[0m     \u001b[39m\"\"\"|coro|\u001b[39;00m\n\u001b[0;32m    726\u001b[0m \n\u001b[0;32m    727\u001b[0m \u001b[39m    A shorthand coroutine for :meth:`login` + :meth:`connect`.\u001b[39;00m\n\u001b[1;32m   (...)\u001b[0m\n\u001b[0;32m    743\u001b[0m \u001b[39m        An unexpected keyword argument was received.\u001b[39;00m\n\u001b[0;32m    744\u001b[0m \u001b[39m    \"\"\"\u001b[39;00m\n\u001b[1;32m--> 745\u001b[0m     \u001b[39mawait\u001b[39;00m \u001b[39mself\u001b[39m\u001b[39m.\u001b[39mlogin(token)\n\u001b[0;32m    746\u001b[0m     \u001b[39mawait\u001b[39;00m \u001b[39mself\u001b[39m\u001b[39m.\u001b[39mconnect(reconnect\u001b[39m=\u001b[39mreconnect)\n",
            "File \u001b[1;32mc:\\Users\\Administrator\\miniconda3\\lib\\site-packages\\discord\\client.py:580\u001b[0m, in \u001b[0;36mClient.login\u001b[1;34m(self, token)\u001b[0m\n\u001b[0;32m    577\u001b[0m     \u001b[39mraise\u001b[39;00m \u001b[39mTypeError\u001b[39;00m(\u001b[39mf\u001b[39m\u001b[39m'\u001b[39m\u001b[39mexpected token to be a str, received \u001b[39m\u001b[39m{\u001b[39;00mtoken\u001b[39m.\u001b[39m\u001b[39m__class__\u001b[39m\u001b[39m.\u001b[39m\u001b[39m__name__\u001b[39m\u001b[39m}\u001b[39;00m\u001b[39m instead\u001b[39m\u001b[39m'\u001b[39m)\n\u001b[0;32m    578\u001b[0m token \u001b[39m=\u001b[39m token\u001b[39m.\u001b[39mstrip()\n\u001b[1;32m--> 580\u001b[0m data \u001b[39m=\u001b[39m \u001b[39mawait\u001b[39;00m \u001b[39mself\u001b[39m\u001b[39m.\u001b[39mhttp\u001b[39m.\u001b[39mstatic_login(token)\n\u001b[0;32m    581\u001b[0m \u001b[39mself\u001b[39m\u001b[39m.\u001b[39m_connection\u001b[39m.\u001b[39muser \u001b[39m=\u001b[39m ClientUser(state\u001b[39m=\u001b[39m\u001b[39mself\u001b[39m\u001b[39m.\u001b[39m_connection, data\u001b[39m=\u001b[39mdata)\n\u001b[0;32m    582\u001b[0m \u001b[39mself\u001b[39m\u001b[39m.\u001b[39m_application \u001b[39m=\u001b[39m \u001b[39mawait\u001b[39;00m \u001b[39mself\u001b[39m\u001b[39m.\u001b[39mapplication_info()\n",
            "File \u001b[1;32mc:\\Users\\Administrator\\miniconda3\\lib\\site-packages\\discord\\http.py:801\u001b[0m, in \u001b[0;36mHTTPClient.static_login\u001b[1;34m(self, token)\u001b[0m\n\u001b[0;32m    798\u001b[0m \u001b[39mself\u001b[39m\u001b[39m.\u001b[39mtoken \u001b[39m=\u001b[39m token\n\u001b[0;32m    800\u001b[0m \u001b[39mtry\u001b[39;00m:\n\u001b[1;32m--> 801\u001b[0m     data \u001b[39m=\u001b[39m \u001b[39mawait\u001b[39;00m \u001b[39mself\u001b[39m\u001b[39m.\u001b[39mrequest(Route(\u001b[39m'\u001b[39m\u001b[39mGET\u001b[39m\u001b[39m'\u001b[39m, \u001b[39m'\u001b[39m\u001b[39m/users/@me\u001b[39m\u001b[39m'\u001b[39m))\n\u001b[0;32m    802\u001b[0m \u001b[39mexcept\u001b[39;00m HTTPException \u001b[39mas\u001b[39;00m exc:\n\u001b[0;32m    803\u001b[0m     \u001b[39mself\u001b[39m\u001b[39m.\u001b[39mtoken \u001b[39m=\u001b[39m old_token\n",
            "File \u001b[1;32mc:\\Users\\Administrator\\miniconda3\\lib\\site-packages\\discord\\http.py:624\u001b[0m, in \u001b[0;36mHTTPClient.request\u001b[1;34m(self, route, files, form, **kwargs)\u001b[0m\n\u001b[0;32m    621\u001b[0m     kwargs[\u001b[39m'\u001b[39m\u001b[39mdata\u001b[39m\u001b[39m'\u001b[39m] \u001b[39m=\u001b[39m form_data\n\u001b[0;32m    623\u001b[0m \u001b[39mtry\u001b[39;00m:\n\u001b[1;32m--> 624\u001b[0m     \u001b[39masync\u001b[39;00m \u001b[39mwith\u001b[39;00m \u001b[39mself\u001b[39m\u001b[39m.\u001b[39m__session\u001b[39m.\u001b[39mrequest(method, url, \u001b[39m*\u001b[39m\u001b[39m*\u001b[39mkwargs) \u001b[39mas\u001b[39;00m response:\n\u001b[0;32m    625\u001b[0m         _log\u001b[39m.\u001b[39mdebug(\u001b[39m'\u001b[39m\u001b[39m%s\u001b[39;00m\u001b[39m \u001b[39m\u001b[39m%s\u001b[39;00m\u001b[39m with \u001b[39m\u001b[39m%s\u001b[39;00m\u001b[39m has returned \u001b[39m\u001b[39m%s\u001b[39;00m\u001b[39m'\u001b[39m, method, url, kwargs\u001b[39m.\u001b[39mget(\u001b[39m'\u001b[39m\u001b[39mdata\u001b[39m\u001b[39m'\u001b[39m), response\u001b[39m.\u001b[39mstatus)\n\u001b[0;32m    627\u001b[0m         \u001b[39m# even errors have text involved in them so this is safe to call\u001b[39;00m\n",
            "File \u001b[1;32mc:\\Users\\Administrator\\miniconda3\\lib\\site-packages\\aiohttp\\client.py:1141\u001b[0m, in \u001b[0;36m_BaseRequestContextManager.__aenter__\u001b[1;34m(self)\u001b[0m\n\u001b[0;32m   1140\u001b[0m \u001b[39masync\u001b[39;00m \u001b[39mdef\u001b[39;00m \u001b[39m__aenter__\u001b[39m(\u001b[39mself\u001b[39m) \u001b[39m-\u001b[39m\u001b[39m>\u001b[39m _RetType:\n\u001b[1;32m-> 1141\u001b[0m     \u001b[39mself\u001b[39m\u001b[39m.\u001b[39m_resp \u001b[39m=\u001b[39m \u001b[39mawait\u001b[39;00m \u001b[39mself\u001b[39m\u001b[39m.\u001b[39m_coro\n\u001b[0;32m   1142\u001b[0m     \u001b[39mreturn\u001b[39;00m \u001b[39mself\u001b[39m\u001b[39m.\u001b[39m_resp\n",
            "File \u001b[1;32mc:\\Users\\Administrator\\miniconda3\\lib\\site-packages\\aiohttp\\client.py:400\u001b[0m, in \u001b[0;36mClientSession._request\u001b[1;34m(self, method, str_or_url, params, data, json, cookies, headers, skip_auto_headers, auth, allow_redirects, max_redirects, compress, chunked, expect100, raise_for_status, read_until_eof, proxy, proxy_auth, timeout, verify_ssl, fingerprint, ssl_context, ssl, proxy_headers, trace_request_ctx, read_bufsize)\u001b[0m\n\u001b[0;32m    364\u001b[0m \u001b[39masync\u001b[39;00m \u001b[39mdef\u001b[39;00m \u001b[39m_request\u001b[39m(\n\u001b[0;32m    365\u001b[0m     \u001b[39mself\u001b[39m,\n\u001b[0;32m    366\u001b[0m     method: \u001b[39mstr\u001b[39m,\n\u001b[1;32m   (...)\u001b[0m\n\u001b[0;32m    396\u001b[0m     \u001b[39m# set the default to None because we need to detect if the user wants\u001b[39;00m\n\u001b[0;32m    397\u001b[0m     \u001b[39m# to use the existing timeouts by setting timeout to None.\u001b[39;00m\n\u001b[0;32m    399\u001b[0m     \u001b[39mif\u001b[39;00m \u001b[39mself\u001b[39m\u001b[39m.\u001b[39mclosed:\n\u001b[1;32m--> 400\u001b[0m         \u001b[39mraise\u001b[39;00m \u001b[39mRuntimeError\u001b[39;00m(\u001b[39m\"\u001b[39m\u001b[39mSession is closed\u001b[39m\u001b[39m\"\u001b[39m)\n\u001b[0;32m    402\u001b[0m     ssl \u001b[39m=\u001b[39m _merge_ssl_params(ssl, verify_ssl, ssl_context, fingerprint)\n\u001b[0;32m    404\u001b[0m     \u001b[39mif\u001b[39;00m data \u001b[39mis\u001b[39;00m \u001b[39mnot\u001b[39;00m \u001b[39mNone\u001b[39;00m \u001b[39mand\u001b[39;00m json \u001b[39mis\u001b[39;00m \u001b[39mnot\u001b[39;00m \u001b[39mNone\u001b[39;00m:\n",
            "\u001b[1;31mRuntimeError\u001b[0m: Session is closed"
          ]
        }
      ],
      "source": [
        "# chat_bot.py를 20분에 한번씩 껐다키는 코드, 별개로 디스코드 봇은 계속 실행됩니다.\n",
        "\n",
        "import schedule\n",
        "import time\n",
        "from IPython.display import clear_output\n",
        "\n",
        "def job():\n",
        "    import chat_bot as cb\n",
        "\n",
        "    # jupyter notebook에서 셀 출력을 지우는 코드입니다.\n",
        "    clear_output()\n",
        "\n",
        "# 20분에 한번씩 실행합니다.\n",
        "schedule.every(20).minutes.do(job)\n",
        "\n",
        "# main을 만들어서 schedule을 실행시킵니다.\n",
        "\n",
        "if __name__ == \"__main__\":\n",
        "\n",
        "    while True:\n",
        "        schedule.run_pending()\n",
        "        time.sleep(1)\n",
        "\n"
      ]
    },
    {
      "cell_type": "code",
      "execution_count": null,
      "metadata": {},
      "outputs": [],
      "source": [
        "# 주의! 다음 코드는 ChatBotData.csv의 빠른 복구를 위한 코드입니다.\n",
        "'''\n",
        "# 기존의 data\\ChatBotData-Old\\ChatBotData.csv를 읽어와 data\\ChatBotData.csv에 저장합니다. 데이터를 복구하시겠습니까? 라는 질문에 사용자가 y를 입력하면 복구합니다.\n",
        "def restore_old_chatbot_data():\n",
        "    chatbot_data = pd.read_csv('data/ChatBotData-Old/Default/ChatBotData.csv')\n",
        "    chatbot_data.to_csv('data/ChatBotData.csv', index=False)\n",
        "    print(\"기존의 ChatBotData.csv가 복구되었습니다.\")\n",
        "\n",
        "# 복구할지 물어봅니다.\n",
        "print(\"데이터를 복구하시겠습니까?\")\n",
        "answer = input(\"y/n : \")\n",
        "if answer == \"y\":\n",
        "    # 한 번 더 물어봅니다.\n",
        "    print(\"진짜?\")\n",
        "    answer = input(\"y/n : \")\n",
        "    if answer == \"y\":\n",
        "        print(\"정말로?\")\n",
        "        answer = input(\"y/n : \")\n",
        "        if answer == \"y\":\n",
        "            print(\"사실 복구하기 싫죠?\")\n",
        "            answer = input(\"y/n : \")\n",
        "            if answer == \"y\":\n",
        "                print(\"그럼 복구하지 않겠습니다.\")\n",
        "            else:\n",
        "                restore_old_chatbot_data()\n",
        "        else:\n",
        "            print(\"데이터 복구를 취소하였습니다.\")\n",
        "    else:\n",
        "        print(\"데이터 복구를 취소하였습니다.\")     \n",
        "else:\n",
        "    print(\"데이터 복구를 취소하였습니다.\")\n",
        "'''"
      ]
    }
  ],
  "metadata": {
    "accelerator": "GPU",
    "colab": {
      "collapsed_sections": [],
      "machine_shape": "hm",
      "name": "Transformer Korean Chatbot.ipynb",
      "provenance": []
    },
    "kernelspec": {
      "display_name": "Python 3.9.12 ('base')",
      "language": "python",
      "name": "python3"
    },
    "language_info": {
      "codemirror_mode": {
        "name": "ipython",
        "version": 3
      },
      "file_extension": ".py",
      "mimetype": "text/x-python",
      "name": "python",
      "nbconvert_exporter": "python",
      "pygments_lexer": "ipython3",
      "version": "3.9.12"
    },
    "vscode": {
      "interpreter": {
        "hash": "d735f6cc625ca8b095620eeb46a50be5e34ded063dbe74c6d5dc8e1ec88bb29c"
      }
    }
  },
  "nbformat": 4,
  "nbformat_minor": 0
}
