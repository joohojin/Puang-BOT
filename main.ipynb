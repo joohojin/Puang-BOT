{
  "cells": [
    {
      "cell_type": "code",
<<<<<<< HEAD
      "execution_count": null,
=======
      "execution_count": 5,
>>>>>>> 418e4709b04a104199734d2f30a512c6e45b9776
      "metadata": {
        "id": "PgzTgkaL9OnI"
      },
      "outputs": [],
      "source": [
        "import numpy as np\n",
        "import matplotlib.pyplot as plt\n",
        "import tensorflow as tf"
      ]
    },
    {
      "cell_type": "code",
<<<<<<< HEAD
      "execution_count": null,
=======
      "execution_count": 6,
>>>>>>> 418e4709b04a104199734d2f30a512c6e45b9776
      "metadata": {
        "colab": {
          "base_uri": "https://localhost:8080/",
          "height": 35
        },
        "id": "fvo8VpnvRcDM",
        "outputId": "e60e93cf-7dd0-4b6f-fc7c-a202c3470939"
      },
<<<<<<< HEAD
      "outputs": [],
=======
      "outputs": [
        {
          "data": {
            "text/plain": [
              "'2.9.2'"
            ]
          },
          "execution_count": 6,
          "metadata": {},
          "output_type": "execute_result"
        }
      ],
>>>>>>> 418e4709b04a104199734d2f30a512c6e45b9776
      "source": [
        "tf.__version__"
      ]
    },
    {
      "cell_type": "code",
<<<<<<< HEAD
      "execution_count": null,
=======
      "execution_count": 4,
      "metadata": {},
      "outputs": [
        {
          "name": "stdout",
          "output_type": "stream",
          "text": [
            "Collecting tensorflow==2.9.2\n",
            "  Downloading tensorflow-2.9.2-cp39-cp39-win_amd64.whl (444.1 MB)\n",
            "Requirement already satisfied: numpy>=1.20 in c:\\users\\administrator\\miniconda3\\lib\\site-packages (from tensorflow==2.9.2) (1.23.4)\n",
            "Requirement already satisfied: opt-einsum>=2.3.2 in c:\\users\\administrator\\miniconda3\\lib\\site-packages (from tensorflow==2.9.2) (3.3.0)\n",
            "Collecting keras<2.10.0,>=2.9.0rc0\n",
            "  Downloading keras-2.9.0-py2.py3-none-any.whl (1.6 MB)\n",
            "Requirement already satisfied: typing-extensions>=3.6.6 in c:\\users\\administrator\\miniconda3\\lib\\site-packages (from tensorflow==2.9.2) (4.4.0)\n",
            "Requirement already satisfied: absl-py>=1.0.0 in c:\\users\\administrator\\miniconda3\\lib\\site-packages (from tensorflow==2.9.2) (1.3.0)\n",
            "Requirement already satisfied: wrapt>=1.11.0 in c:\\users\\administrator\\miniconda3\\lib\\site-packages (from tensorflow==2.9.2) (1.14.1)\n",
            "Requirement already satisfied: astunparse>=1.6.0 in c:\\users\\administrator\\miniconda3\\lib\\site-packages (from tensorflow==2.9.2) (1.6.3)\n",
            "Requirement already satisfied: setuptools in c:\\users\\administrator\\miniconda3\\lib\\site-packages (from tensorflow==2.9.2) (61.2.0)\n",
            "Collecting flatbuffers<2,>=1.12\n",
            "  Downloading flatbuffers-1.12-py2.py3-none-any.whl (15 kB)\n",
            "Requirement already satisfied: packaging in c:\\users\\administrator\\appdata\\roaming\\python\\python39\\site-packages (from tensorflow==2.9.2) (21.3)\n",
            "Requirement already satisfied: gast<=0.4.0,>=0.2.1 in c:\\users\\administrator\\miniconda3\\lib\\site-packages (from tensorflow==2.9.2) (0.4.0)\n",
            "Collecting tensorflow-estimator<2.10.0,>=2.9.0rc0\n",
            "  Downloading tensorflow_estimator-2.9.0-py2.py3-none-any.whl (438 kB)\n",
            "Collecting keras-preprocessing>=1.1.1\n",
            "  Using cached Keras_Preprocessing-1.1.2-py2.py3-none-any.whl (42 kB)\n",
            "Requirement already satisfied: tensorflow-io-gcs-filesystem>=0.23.1 in c:\\users\\administrator\\miniconda3\\lib\\site-packages (from tensorflow==2.9.2) (0.28.0)\n",
            "Requirement already satisfied: grpcio<2.0,>=1.24.3 in c:\\users\\administrator\\miniconda3\\lib\\site-packages (from tensorflow==2.9.2) (1.50.0)\n",
            "Requirement already satisfied: six>=1.12.0 in c:\\users\\administrator\\appdata\\roaming\\python\\python39\\site-packages (from tensorflow==2.9.2) (1.16.0)\n",
            "Collecting tensorboard<2.10,>=2.9\n",
            "  Downloading tensorboard-2.9.1-py3-none-any.whl (5.8 MB)\n",
            "Requirement already satisfied: libclang>=13.0.0 in c:\\users\\administrator\\miniconda3\\lib\\site-packages (from tensorflow==2.9.2) (14.0.6)\n",
            "Requirement already satisfied: protobuf<3.20,>=3.9.2 in c:\\users\\administrator\\miniconda3\\lib\\site-packages (from tensorflow==2.9.2) (3.19.6)\n",
            "Requirement already satisfied: h5py>=2.9.0 in c:\\users\\administrator\\miniconda3\\lib\\site-packages (from tensorflow==2.9.2) (3.7.0)\n",
            "Requirement already satisfied: google-pasta>=0.1.1 in c:\\users\\administrator\\miniconda3\\lib\\site-packages (from tensorflow==2.9.2) (0.2.0)\n",
            "Requirement already satisfied: termcolor>=1.1.0 in c:\\users\\administrator\\miniconda3\\lib\\site-packages (from tensorflow==2.9.2) (2.1.0)\n",
            "Requirement already satisfied: wheel<1.0,>=0.23.0 in c:\\users\\administrator\\miniconda3\\lib\\site-packages (from astunparse>=1.6.0->tensorflow==2.9.2) (0.37.1)\n",
            "Requirement already satisfied: google-auth-oauthlib<0.5,>=0.4.1 in c:\\users\\administrator\\miniconda3\\lib\\site-packages (from tensorboard<2.10,>=2.9->tensorflow==2.9.2) (0.4.6)\n",
            "Requirement already satisfied: markdown>=2.6.8 in c:\\users\\administrator\\miniconda3\\lib\\site-packages (from tensorboard<2.10,>=2.9->tensorflow==2.9.2) (3.4.1)\n",
            "Requirement already satisfied: tensorboard-data-server<0.7.0,>=0.6.0 in c:\\users\\administrator\\miniconda3\\lib\\site-packages (from tensorboard<2.10,>=2.9->tensorflow==2.9.2) (0.6.1)\n",
            "Requirement already satisfied: tensorboard-plugin-wit>=1.6.0 in c:\\users\\administrator\\miniconda3\\lib\\site-packages (from tensorboard<2.10,>=2.9->tensorflow==2.9.2) (1.8.1)\n",
            "Requirement already satisfied: requests<3,>=2.21.0 in c:\\users\\administrator\\miniconda3\\lib\\site-packages (from tensorboard<2.10,>=2.9->tensorflow==2.9.2) (2.27.1)\n",
            "Requirement already satisfied: werkzeug>=1.0.1 in c:\\users\\administrator\\miniconda3\\lib\\site-packages (from tensorboard<2.10,>=2.9->tensorflow==2.9.2) (2.2.2)\n",
            "Requirement already satisfied: google-auth<3,>=1.6.3 in c:\\users\\administrator\\miniconda3\\lib\\site-packages (from tensorboard<2.10,>=2.9->tensorflow==2.9.2) (2.14.1)\n",
            "Requirement already satisfied: cachetools<6.0,>=2.0.0 in c:\\users\\administrator\\miniconda3\\lib\\site-packages (from google-auth<3,>=1.6.3->tensorboard<2.10,>=2.9->tensorflow==2.9.2) (5.2.0)\n",
            "Requirement already satisfied: rsa<5,>=3.1.4 in c:\\users\\administrator\\miniconda3\\lib\\site-packages (from google-auth<3,>=1.6.3->tensorboard<2.10,>=2.9->tensorflow==2.9.2) (4.9)\n",
            "Requirement already satisfied: pyasn1-modules>=0.2.1 in c:\\users\\administrator\\miniconda3\\lib\\site-packages (from google-auth<3,>=1.6.3->tensorboard<2.10,>=2.9->tensorflow==2.9.2) (0.2.8)\n",
            "Requirement already satisfied: requests-oauthlib>=0.7.0 in c:\\users\\administrator\\miniconda3\\lib\\site-packages (from google-auth-oauthlib<0.5,>=0.4.1->tensorboard<2.10,>=2.9->tensorflow==2.9.2) (1.3.1)\n",
            "Requirement already satisfied: importlib-metadata>=4.4 in c:\\users\\administrator\\miniconda3\\lib\\site-packages (from markdown>=2.6.8->tensorboard<2.10,>=2.9->tensorflow==2.9.2) (5.1.0)\n",
            "Requirement already satisfied: zipp>=0.5 in c:\\users\\administrator\\miniconda3\\lib\\site-packages (from importlib-metadata>=4.4->markdown>=2.6.8->tensorboard<2.10,>=2.9->tensorflow==2.9.2) (3.10.0)\n",
            "Requirement already satisfied: pyasn1<0.5.0,>=0.4.6 in c:\\users\\administrator\\miniconda3\\lib\\site-packages (from pyasn1-modules>=0.2.1->google-auth<3,>=1.6.3->tensorboard<2.10,>=2.9->tensorflow==2.9.2) (0.4.8)\n",
            "Requirement already satisfied: idna<4,>=2.5 in c:\\users\\administrator\\miniconda3\\lib\\site-packages (from requests<3,>=2.21.0->tensorboard<2.10,>=2.9->tensorflow==2.9.2) (3.3)\n",
            "Requirement already satisfied: certifi>=2017.4.17 in c:\\users\\administrator\\miniconda3\\lib\\site-packages (from requests<3,>=2.21.0->tensorboard<2.10,>=2.9->tensorflow==2.9.2) (2021.10.8)\n",
            "Requirement already satisfied: charset-normalizer~=2.0.0 in c:\\users\\administrator\\miniconda3\\lib\\site-packages (from requests<3,>=2.21.0->tensorboard<2.10,>=2.9->tensorflow==2.9.2) (2.0.4)\n",
            "Requirement already satisfied: urllib3<1.27,>=1.21.1 in c:\\users\\administrator\\miniconda3\\lib\\site-packages (from requests<3,>=2.21.0->tensorboard<2.10,>=2.9->tensorflow==2.9.2) (1.26.8)\n",
            "Requirement already satisfied: oauthlib>=3.0.0 in c:\\users\\administrator\\miniconda3\\lib\\site-packages (from requests-oauthlib>=0.7.0->google-auth-oauthlib<0.5,>=0.4.1->tensorboard<2.10,>=2.9->tensorflow==2.9.2) (3.2.2)\n",
            "Requirement already satisfied: MarkupSafe>=2.1.1 in c:\\users\\administrator\\miniconda3\\lib\\site-packages (from werkzeug>=1.0.1->tensorboard<2.10,>=2.9->tensorflow==2.9.2) (2.1.1)\n",
            "Requirement already satisfied: pyparsing!=3.0.5,>=2.0.2 in c:\\users\\administrator\\appdata\\roaming\\python\\python39\\site-packages (from packaging->tensorflow==2.9.2) (3.0.9)\n",
            "Installing collected packages: tensorflow-estimator, tensorboard, keras-preprocessing, keras, flatbuffers, tensorflow\n",
            "  Attempting uninstall: tensorflow-estimator\n",
            "    Found existing installation: tensorflow-estimator 2.11.0\n",
            "    Uninstalling tensorflow-estimator-2.11.0:\n",
            "      Successfully uninstalled tensorflow-estimator-2.11.0\n",
            "  Attempting uninstall: tensorboard\n",
            "    Found existing installation: tensorboard 2.11.0\n",
            "    Uninstalling tensorboard-2.11.0:\n",
            "      Successfully uninstalled tensorboard-2.11.0\n",
            "  Attempting uninstall: keras\n",
            "    Found existing installation: keras 2.11.0\n",
            "    Uninstalling keras-2.11.0:\n",
            "      Successfully uninstalled keras-2.11.0\n",
            "  Attempting uninstall: flatbuffers\n",
            "    Found existing installation: flatbuffers 22.11.23\n",
            "    Uninstalling flatbuffers-22.11.23:\n",
            "      Successfully uninstalled flatbuffers-22.11.23\n",
            "  Attempting uninstall: tensorflow\n",
            "    Found existing installation: tensorflow 2.11.0\n",
            "    Uninstalling tensorflow-2.11.0:\n",
            "      Successfully uninstalled tensorflow-2.11.0\n",
            "Successfully installed flatbuffers-1.12 keras-2.9.0 keras-preprocessing-1.1.2 tensorboard-2.9.1 tensorflow-2.9.2 tensorflow-estimator-2.9.0\n"
          ]
        },
        {
          "name": "stderr",
          "output_type": "stream",
          "text": [
            "ERROR: pip's dependency resolver does not currently take into account all the packages that are installed. This behaviour is the source of the following dependency conflicts.\n",
            "tensorflow-intel 2.11.0 requires flatbuffers>=2.0, but you have flatbuffers 1.12 which is incompatible.\n",
            "tensorflow-intel 2.11.0 requires keras<2.12,>=2.11.0, but you have keras 2.9.0 which is incompatible.\n",
            "tensorflow-intel 2.11.0 requires tensorboard<2.12,>=2.11, but you have tensorboard 2.9.1 which is incompatible.\n",
            "tensorflow-intel 2.11.0 requires tensorflow-estimator<2.12,>=2.11.0, but you have tensorflow-estimator 2.9.0 which is incompatible.\n"
          ]
        }
      ],
      "source": [
        "!pip install tensorflow==2.9.2"
      ]
    },
    {
      "cell_type": "code",
      "execution_count": 7,
>>>>>>> 418e4709b04a104199734d2f30a512c6e45b9776
      "metadata": {
        "id": "JY6lwO-oWZJd"
      },
      "outputs": [],
      "source": [
        "# 최종 버전\n",
        "class PositionalEncoding(tf.keras.layers.Layer):\n",
        "  def __init__(self, position, d_model):\n",
        "    super(PositionalEncoding, self).__init__()\n",
        "    self.pos_encoding = self.positional_encoding(position, d_model)\n",
        "\n",
        "  def get_angles(self, position, i, d_model):\n",
        "    angles = 1 / tf.pow(10000, (2 * (i // 2)) / tf.cast(d_model, tf.float32))\n",
        "    return position * angles\n",
        "\n",
        "  def positional_encoding(self, position, d_model):\n",
        "    angle_rads = self.get_angles(\n",
        "        position=tf.range(position, dtype=tf.float32)[:, tf.newaxis],\n",
        "        i=tf.range(d_model, dtype=tf.float32)[tf.newaxis, :],\n",
        "        d_model=d_model)\n",
        "\n",
        "    # 배열의 짝수 인덱스(2i)에는 사인 함수 적용\n",
        "    sines = tf.math.sin(angle_rads[:, 0::2])\n",
        "\n",
        "    # 배열의 홀수 인덱스(2i+1)에는 코사인 함수 적용\n",
        "    cosines = tf.math.cos(angle_rads[:, 1::2])\n",
        "\n",
        "    angle_rads = np.zeros(angle_rads.shape)\n",
        "    angle_rads[:, 0::2] = sines\n",
        "    angle_rads[:, 1::2] = cosines\n",
        "    pos_encoding = tf.constant(angle_rads)\n",
        "    pos_encoding = pos_encoding[tf.newaxis, ...]\n",
        "\n",
        "    print(pos_encoding.shape)\n",
        "    return tf.cast(pos_encoding, tf.float32)\n",
        "\n",
        "  def call(self, inputs):\n",
        "    return inputs + self.pos_encoding[:, :tf.shape(inputs)[1], :]"
      ]
    },
    {
      "cell_type": "code",
<<<<<<< HEAD
      "execution_count": null,
=======
      "execution_count": 8,
>>>>>>> 418e4709b04a104199734d2f30a512c6e45b9776
      "metadata": {
        "colab": {
          "base_uri": "https://localhost:8080/",
          "height": 301
        },
        "id": "QiNrtgQUV36E",
        "outputId": "3467cf4d-9ecd-4840-e789-fe5dfaa951a8"
      },
      "outputs": [],
      "source": [
        "sample_pos_encoding = PositionalEncoding(50, 128)\n",
        "\n",
        "plt.pcolormesh(sample_pos_encoding.pos_encoding.numpy()[0], cmap='RdBu')\n",
        "plt.xlabel('Depth')\n",
        "plt.xlim((0, 128))\n",
        "plt.ylabel('Position')\n",
        "plt.colorbar()\n",
        "plt.show()"
      ]
    },
    {
      "cell_type": "code",
<<<<<<< HEAD
      "execution_count": null,
=======
      "execution_count": 9,
>>>>>>> 418e4709b04a104199734d2f30a512c6e45b9776
      "metadata": {
        "id": "F6534luH9d0K"
      },
      "outputs": [],
      "source": [
        "def scaled_dot_product_attention(query, key, value, mask):\n",
        "  # query 크기 : (batch_size, num_heads, query의 문장 길이, d_model/num_heads)\n",
        "  # key 크기 : (batch_size, num_heads, key의 문장 길이, d_model/num_heads)\n",
        "  # value 크기 : (batch_size, num_heads, value의 문장 길이, d_model/num_heads)\n",
        "  # padding_mask : (batch_size, 1, 1, key의 문장 길이)\n",
        "\n",
        "  # Q와 K의 곱. 어텐션 스코어 행렬.\n",
        "  matmul_qk = tf.matmul(query, key, transpose_b=True)\n",
        "\n",
        "  # 스케일링\n",
        "  # dk의 루트값으로 나눠준다.\n",
        "  depth = tf.cast(tf.shape(key)[-1], tf.float32)\n",
        "  logits = matmul_qk / tf.math.sqrt(depth)\n",
        "\n",
        "  # 마스킹. 어텐션 스코어 행렬의 마스킹 할 위치에 매우 작은 음수값을 넣는다.\n",
        "  # 매우 작은 값이므로 소프트맥스 함수를 지나면 행렬의 해당 위치의 값은 0이 된다.\n",
        "  if mask is not None:\n",
        "    logits += (mask * -1e9)\n",
        "\n",
        "  # 소프트맥스 함수는 마지막 차원인 key의 문장 길이 방향으로 수행된다.\n",
        "  # attention weight : (batch_size, num_heads, query의 문장 길이, key의 문장 길이)\n",
        "  attention_weights = tf.nn.softmax(logits, axis=-1)\n",
        "\n",
        "  # output : (batch_size, num_heads, query의 문장 길이, d_model/num_heads)\n",
        "  output = tf.matmul(attention_weights, value)\n",
        "\n",
        "  return output, attention_weights"
      ]
    },
    {
      "cell_type": "code",
<<<<<<< HEAD
      "execution_count": null,
=======
      "execution_count": 10,
>>>>>>> 418e4709b04a104199734d2f30a512c6e45b9776
      "metadata": {
        "id": "RNU5ilcw9f3q"
      },
      "outputs": [],
      "source": [
        "class MultiHeadAttention(tf.keras.layers.Layer):\n",
        "\n",
        "  def __init__(self, d_model, num_heads, name=\"multi_head_attention\"):\n",
        "    super(MultiHeadAttention, self).__init__(name=name)\n",
        "    self.num_heads = num_heads\n",
        "    self.d_model = d_model\n",
        "\n",
        "    assert d_model % self.num_heads == 0\n",
        "\n",
        "    # d_model을 num_heads로 나눈 값.\n",
        "    # 논문 기준 : 64\n",
        "    self.depth = d_model // self.num_heads\n",
        "\n",
        "    # WQ, WK, WV에 해당하는 밀집층 정의\n",
        "    self.query_dense = tf.keras.layers.Dense(units=d_model)\n",
        "    self.key_dense = tf.keras.layers.Dense(units=d_model)\n",
        "    self.value_dense = tf.keras.layers.Dense(units=d_model)\n",
        "\n",
        "    # WO에 해당하는 밀집층 정의\n",
        "    self.dense = tf.keras.layers.Dense(units=d_model)\n",
        "\n",
        "  # num_heads 개수만큼 q, k, v를 split하는 함수\n",
        "  def split_heads(self, inputs, batch_size):\n",
        "    inputs = tf.reshape(\n",
        "        inputs, shape=(batch_size, -1, self.num_heads, self.depth))\n",
        "    return tf.transpose(inputs, perm=[0, 2, 1, 3])\n",
        "\n",
        "  def call(self, inputs):\n",
        "    query, key, value, mask = inputs['query'], inputs['key'], inputs[\n",
        "        'value'], inputs['mask']\n",
        "    batch_size = tf.shape(query)[0]\n",
        "\n",
        "    # 1. WQ, WK, WV에 해당하는 밀집층 지나기\n",
        "    # q : (batch_size, query의 문장 길이, d_model)\n",
        "    # k : (batch_size, key의 문장 길이, d_model)\n",
        "    # v : (batch_size, value의 문장 길이, d_model)\n",
        "    # 참고) 인코더(k, v)-디코더(q) 어텐션에서는 query 길이와 key, value의 길이는 다를 수 있다.\n",
        "    query = self.query_dense(query)\n",
        "    key = self.key_dense(key)\n",
        "    value = self.value_dense(value)\n",
        "\n",
        "    # 2. 헤드 나누기\n",
        "    # q : (batch_size, num_heads, query의 문장 길이, d_model/num_heads)\n",
        "    # k : (batch_size, num_heads, key의 문장 길이, d_model/num_heads)\n",
        "    # v : (batch_size, num_heads, value의 문장 길이, d_model/num_heads)\n",
        "    query = self.split_heads(query, batch_size)\n",
        "    key = self.split_heads(key, batch_size)\n",
        "    value = self.split_heads(value, batch_size)\n",
        "\n",
        "    # 3. 스케일드 닷 프로덕트 어텐션. 앞서 구현한 함수 사용.\n",
        "    # (batch_size, num_heads, query의 문장 길이, d_model/num_heads)\n",
        "    scaled_attention, _ = scaled_dot_product_attention(query, key, value, mask)\n",
        "    # (batch_size, query의 문장 길이, num_heads, d_model/num_heads)\n",
        "    scaled_attention = tf.transpose(scaled_attention, perm=[0, 2, 1, 3])\n",
        "\n",
        "    # 4. 헤드 연결(concatenate)하기\n",
        "    # (batch_size, query의 문장 길이, d_model)\n",
        "    concat_attention = tf.reshape(scaled_attention,\n",
        "                                  (batch_size, -1, self.d_model))\n",
        "\n",
        "    # 5. WO에 해당하는 밀집층 지나기\n",
        "    # (batch_size, query의 문장 길이, d_model)\n",
        "    outputs = self.dense(concat_attention)\n",
        "\n",
        "    return outputs"
      ]
    },
    {
      "cell_type": "code",
<<<<<<< HEAD
      "execution_count": null,
=======
      "execution_count": 11,
>>>>>>> 418e4709b04a104199734d2f30a512c6e45b9776
      "metadata": {
        "id": "QrCdqp8z9ily"
      },
      "outputs": [],
      "source": [
        "def create_padding_mask(x):\n",
        "  mask = tf.cast(tf.math.equal(x, 0), tf.float32)\n",
        "  # (batch_size, 1, 1, key의 문장 길이)\n",
        "  return mask[:, tf.newaxis, tf.newaxis, :]"
      ]
    },
    {
      "cell_type": "code",
<<<<<<< HEAD
      "execution_count": null,
=======
      "execution_count": 12,
>>>>>>> 418e4709b04a104199734d2f30a512c6e45b9776
      "metadata": {
        "id": "nskamzrs9j1K"
      },
      "outputs": [],
      "source": [
        "def encoder_layer(dff, d_model, num_heads, dropout, name=\"encoder_layer\"):\n",
        "  inputs = tf.keras.Input(shape=(None, d_model), name=\"inputs\")\n",
        "\n",
        "  # 인코더는 패딩 마스크 사용\n",
        "  padding_mask = tf.keras.Input(shape=(1, 1, None), name=\"padding_mask\")\n",
        "\n",
        "  # 멀티-헤드 어텐션 (첫번째 서브층 / 셀프 어텐션)\n",
        "  attention = MultiHeadAttention(\n",
        "      d_model, num_heads, name=\"attention\")({\n",
        "          'query': inputs, 'key': inputs, 'value': inputs, # Q = K = V\n",
        "          'mask': padding_mask # 패딩 마스크 사용\n",
        "      })\n",
        "\n",
        "  # 드롭아웃 + 잔차 연결과 층 정규화\n",
        "  attention = tf.keras.layers.Dropout(rate=dropout)(attention)\n",
        "  attention = tf.keras.layers.LayerNormalization(\n",
        "      epsilon=1e-6)(inputs + attention)\n",
        "\n",
        "  # 포지션 와이즈 피드 포워드 신경망 (두번째 서브층)\n",
        "  outputs = tf.keras.layers.Dense(units=dff, activation='relu')(attention)\n",
        "  outputs = tf.keras.layers.Dense(units=d_model)(outputs)\n",
        "\n",
        "  # 드롭아웃 + 잔차 연결과 층 정규화\n",
        "  outputs = tf.keras.layers.Dropout(rate=dropout)(outputs)\n",
        "  outputs = tf.keras.layers.LayerNormalization(\n",
        "      epsilon=1e-6)(attention + outputs)\n",
        "\n",
        "  return tf.keras.Model(\n",
        "      inputs=[inputs, padding_mask], outputs=outputs, name=name)"
      ]
    },
    {
      "cell_type": "code",
<<<<<<< HEAD
      "execution_count": null,
=======
      "execution_count": 13,
>>>>>>> 418e4709b04a104199734d2f30a512c6e45b9776
      "metadata": {
        "id": "34a0WK-B9lgi"
      },
      "outputs": [],
      "source": [
        "def encoder(vocab_size, num_layers, dff,\n",
        "            d_model, num_heads, dropout,\n",
        "            name=\"encoder\"):\n",
        "  inputs = tf.keras.Input(shape=(None,), name=\"inputs\")\n",
        "\n",
        "  # 인코더는 패딩 마스크 사용\n",
        "  padding_mask = tf.keras.Input(shape=(1, 1, None), name=\"padding_mask\")\n",
        "\n",
        "  # 포지셔널 인코딩 + 드롭아웃\n",
        "  embeddings = tf.keras.layers.Embedding(vocab_size, d_model)(inputs)\n",
        "  embeddings *= tf.math.sqrt(tf.cast(d_model, tf.float32))\n",
        "  embeddings = PositionalEncoding(vocab_size, d_model)(embeddings)\n",
        "  outputs = tf.keras.layers.Dropout(rate=dropout)(embeddings)\n",
        "\n",
        "  # 인코더를 num_layers개 쌓기\n",
        "  for i in range(num_layers):\n",
        "    outputs = encoder_layer(dff=dff, d_model=d_model, num_heads=num_heads,\n",
        "        dropout=dropout, name=\"encoder_layer_{}\".format(i),\n",
        "    )([outputs, padding_mask])\n",
        "\n",
        "  return tf.keras.Model(\n",
        "      inputs=[inputs, padding_mask], outputs=outputs, name=name)"
      ]
    },
    {
      "cell_type": "code",
<<<<<<< HEAD
      "execution_count": null,
=======
      "execution_count": 14,
>>>>>>> 418e4709b04a104199734d2f30a512c6e45b9776
      "metadata": {
        "id": "Ng1ysGoJ9mha"
      },
      "outputs": [],
      "source": [
        "# 디코더의 첫번째 서브층(sublayer)에서 미래 토큰을 Mask하는 함수\n",
        "def create_look_ahead_mask(x):\n",
        "  seq_len = tf.shape(x)[1]\n",
        "  look_ahead_mask = 1 - tf.linalg.band_part(tf.ones((seq_len, seq_len)), -1, 0)\n",
        "  padding_mask = create_padding_mask(x) # 패딩 마스크도 포함\n",
        "  return tf.maximum(look_ahead_mask, padding_mask)"
      ]
    },
    {
      "cell_type": "code",
<<<<<<< HEAD
      "execution_count": null,
=======
      "execution_count": 15,
>>>>>>> 418e4709b04a104199734d2f30a512c6e45b9776
      "metadata": {
        "id": "I3QDoLz49oPK"
      },
      "outputs": [],
      "source": [
        "def decoder_layer(dff, d_model, num_heads, dropout, name=\"decoder_layer\"):\n",
        "  inputs = tf.keras.Input(shape=(None, d_model), name=\"inputs\")\n",
        "  enc_outputs = tf.keras.Input(shape=(None, d_model), name=\"encoder_outputs\")\n",
        "\n",
        "  # 디코더는 룩어헤드 마스크(첫번째 서브층)와 패딩 마스크(두번째 서브층) 둘 다 사용.\n",
        "  look_ahead_mask = tf.keras.Input(\n",
        "      shape=(1, None, None), name=\"look_ahead_mask\")\n",
        "  padding_mask = tf.keras.Input(shape=(1, 1, None), name='padding_mask')\n",
        "\n",
        "  # 멀티-헤드 어텐션 (첫번째 서브층 / 마스크드 셀프 어텐션)\n",
        "  attention1 = MultiHeadAttention(\n",
        "      d_model, num_heads, name=\"attention_1\")(inputs={\n",
        "          'query': inputs, 'key': inputs, 'value': inputs, # Q = K = V\n",
        "          'mask': look_ahead_mask # 룩어헤드 마스크\n",
        "      })\n",
        "\n",
        "  # 잔차 연결과 층 정규화\n",
        "  attention1 = tf.keras.layers.LayerNormalization(\n",
        "      epsilon=1e-6)(attention1 + inputs)\n",
        "\n",
        "  # 멀티-헤드 어텐션 (두번째 서브층 / 디코더-인코더 어텐션)\n",
        "  attention2 = MultiHeadAttention(\n",
        "      d_model, num_heads, name=\"attention_2\")(inputs={\n",
        "          'query': attention1, 'key': enc_outputs, 'value': enc_outputs, # Q != K = V\n",
        "          'mask': padding_mask # 패딩 마스크\n",
        "      })\n",
        "\n",
        "  # 드롭아웃 + 잔차 연결과 층 정규화\n",
        "  attention2 = tf.keras.layers.Dropout(rate=dropout)(attention2)\n",
        "  attention2 = tf.keras.layers.LayerNormalization(\n",
        "      epsilon=1e-6)(attention2 + attention1)\n",
        "\n",
        "  # 포지션 와이즈 피드 포워드 신경망 (세번째 서브층)\n",
        "  outputs = tf.keras.layers.Dense(units=dff, activation='relu')(attention2)\n",
        "  outputs = tf.keras.layers.Dense(units=d_model)(outputs)\n",
        "\n",
        "  # 드롭아웃 + 잔차 연결과 층 정규화\n",
        "  outputs = tf.keras.layers.Dropout(rate=dropout)(outputs)\n",
        "  outputs = tf.keras.layers.LayerNormalization(\n",
        "      epsilon=1e-6)(outputs + attention2)\n",
        "\n",
        "  return tf.keras.Model(\n",
        "      inputs=[inputs, enc_outputs, look_ahead_mask, padding_mask],\n",
        "      outputs=outputs,\n",
        "      name=name)"
      ]
    },
    {
      "cell_type": "code",
<<<<<<< HEAD
      "execution_count": null,
=======
      "execution_count": 16,
>>>>>>> 418e4709b04a104199734d2f30a512c6e45b9776
      "metadata": {
        "id": "5i9lZmji9qDa"
      },
      "outputs": [],
      "source": [
        "def decoder(vocab_size, num_layers, dff,\n",
        "            d_model, num_heads, dropout,\n",
        "            name='decoder'):\n",
        "  inputs = tf.keras.Input(shape=(None,), name='inputs')\n",
        "  enc_outputs = tf.keras.Input(shape=(None, d_model), name='encoder_outputs')\n",
        "\n",
        "  # 디코더는 룩어헤드 마스크(첫번째 서브층)와 패딩 마스크(두번째 서브층) 둘 다 사용.\n",
        "  look_ahead_mask = tf.keras.Input(\n",
        "      shape=(1, None, None), name='look_ahead_mask')\n",
        "  padding_mask = tf.keras.Input(shape=(1, 1, None), name='padding_mask')\n",
        "\n",
        "  # 포지셔널 인코딩 + 드롭아웃\n",
        "  embeddings = tf.keras.layers.Embedding(vocab_size, d_model)(inputs)\n",
        "  embeddings *= tf.math.sqrt(tf.cast(d_model, tf.float32))\n",
        "  embeddings = PositionalEncoding(vocab_size, d_model)(embeddings)\n",
        "  outputs = tf.keras.layers.Dropout(rate=dropout)(embeddings)\n",
        "\n",
        "  # 디코더를 num_layers개 쌓기\n",
        "  for i in range(num_layers):\n",
        "    outputs = decoder_layer(dff=dff, d_model=d_model, num_heads=num_heads,\n",
        "        dropout=dropout, name='decoder_layer_{}'.format(i),\n",
        "    )(inputs=[outputs, enc_outputs, look_ahead_mask, padding_mask])\n",
        "\n",
        "  return tf.keras.Model(\n",
        "      inputs=[inputs, enc_outputs, look_ahead_mask, padding_mask],\n",
        "      outputs=outputs,\n",
        "      name=name)"
      ]
    },
    {
      "cell_type": "code",
<<<<<<< HEAD
      "execution_count": null,
=======
      "execution_count": 17,
>>>>>>> 418e4709b04a104199734d2f30a512c6e45b9776
      "metadata": {
        "id": "-GEC6CXF9q7S"
      },
      "outputs": [],
      "source": [
        "def transformer(vocab_size, num_layers, dff,\n",
        "                d_model, num_heads, dropout,\n",
        "                name=\"transformer\"):\n",
        "\n",
        "  # 인코더의 입력\n",
        "  inputs = tf.keras.Input(shape=(None,), name=\"inputs\")\n",
        "\n",
        "  # 디코더의 입력\n",
        "  dec_inputs = tf.keras.Input(shape=(None,), name=\"dec_inputs\")\n",
        "\n",
        "  # 인코더의 패딩 마스크\n",
        "  enc_padding_mask = tf.keras.layers.Lambda(\n",
        "      create_padding_mask, output_shape=(1, 1, None),\n",
        "      name='enc_padding_mask')(inputs)\n",
        "\n",
        "  # 디코더의 룩어헤드 마스크(첫번째 서브층)\n",
        "  look_ahead_mask = tf.keras.layers.Lambda(\n",
        "      create_look_ahead_mask, output_shape=(1, None, None),\n",
        "      name='look_ahead_mask')(dec_inputs)\n",
        "\n",
        "  # 디코더의 패딩 마스크(두번째 서브층)\n",
        "  dec_padding_mask = tf.keras.layers.Lambda(\n",
        "      create_padding_mask, output_shape=(1, 1, None),\n",
        "      name='dec_padding_mask')(inputs)\n",
        "\n",
        "  # 인코더의 출력은 enc_outputs. 디코더로 전달된다.\n",
        "  enc_outputs = encoder(vocab_size=vocab_size, num_layers=num_layers, dff=dff,\n",
        "      d_model=d_model, num_heads=num_heads, dropout=dropout,\n",
        "  )(inputs=[inputs, enc_padding_mask]) # 인코더의 입력은 입력 문장과 패딩 마스크\n",
        "\n",
        "  # 디코더의 출력은 dec_outputs. 출력층으로 전달된다.\n",
        "  dec_outputs = decoder(vocab_size=vocab_size, num_layers=num_layers, dff=dff,\n",
        "      d_model=d_model, num_heads=num_heads, dropout=dropout,\n",
        "  )(inputs=[dec_inputs, enc_outputs, look_ahead_mask, dec_padding_mask])\n",
        "\n",
        "  # 다음 단어 예측을 위한 출력층\n",
        "  outputs = tf.keras.layers.Dense(units=vocab_size, name=\"outputs\")(dec_outputs)\n",
        "\n",
        "  return tf.keras.Model(inputs=[inputs, dec_inputs], outputs=outputs, name=name)"
      ]
    },
    {
      "cell_type": "code",
<<<<<<< HEAD
      "execution_count": null,
=======
      "execution_count": 18,
>>>>>>> 418e4709b04a104199734d2f30a512c6e45b9776
      "metadata": {
        "colab": {
          "base_uri": "https://localhost:8080/",
          "height": 568
        },
        "id": "ori23vQy9sRq",
        "outputId": "c9e0a219-654a-40f0-96df-6d2df766df27"
      },
<<<<<<< HEAD
      "outputs": [],
=======
      "outputs": [
        {
          "name": "stdout",
          "output_type": "stream",
          "text": [
            "(1, 9000, 128)\n",
            "(1, 9000, 128)\n",
            "You must install pydot (`pip install pydot`) and install graphviz (see instructions at https://graphviz.gitlab.io/download/) for plot_model/model_to_dot to work.\n"
          ]
        }
      ],
>>>>>>> 418e4709b04a104199734d2f30a512c6e45b9776
      "source": [
        "small_transformer = transformer(\n",
        "    vocab_size = 9000,\n",
        "    num_layers = 4,\n",
        "    dff = 512,\n",
        "    d_model = 128,\n",
        "    num_heads = 4,\n",
        "    dropout = 0.3,\n",
        "    name=\"small_transformer\")\n",
        "\n",
        "tf.keras.utils.plot_model(\n",
        "    small_transformer, to_file='small_transformer.png', show_shapes=True)"
      ]
    },
    {
      "cell_type": "code",
<<<<<<< HEAD
      "execution_count": null,
=======
      "execution_count": 19,
>>>>>>> 418e4709b04a104199734d2f30a512c6e45b9776
      "metadata": {
        "id": "7DgCW2_k-8KM"
      },
      "outputs": [],
      "source": [
        "def loss_function(y_true, y_pred):\n",
        "  y_true = tf.reshape(y_true, shape=(-1, MAX_LENGTH - 1))\n",
        "\n",
        "  loss = tf.keras.losses.SparseCategoricalCrossentropy(\n",
        "      from_logits=True, reduction='none')(y_true, y_pred)\n",
        "\n",
        "  mask = tf.cast(tf.not_equal(y_true, 0), tf.float32)\n",
        "  loss = tf.multiply(loss, mask)\n",
        "\n",
        "  return tf.reduce_mean(loss)"
      ]
    },
    {
      "cell_type": "code",
<<<<<<< HEAD
      "execution_count": null,
=======
      "execution_count": 20,
>>>>>>> 418e4709b04a104199734d2f30a512c6e45b9776
      "metadata": {
        "id": "kkkz7qka_tSU"
      },
      "outputs": [],
      "source": [
        "class CustomSchedule(tf.keras.optimizers.schedules.LearningRateSchedule):\n",
        "\n",
        "  def __init__(self, d_model, warmup_steps=4000):\n",
        "    super(CustomSchedule, self).__init__()\n",
        "    self.d_model = d_model\n",
        "    self.d_model = tf.cast(self.d_model, tf.float32)\n",
        "    self.warmup_steps = warmup_steps\n",
        "\n",
        "  def __call__(self, step):\n",
        "    arg1 = tf.math.rsqrt(step)\n",
        "    arg2 = step * (self.warmup_steps**-1.5)\n",
        "\n",
        "    return tf.math.rsqrt(self.d_model) * tf.math.minimum(arg1, arg2)"
      ]
    },
    {
      "cell_type": "code",
<<<<<<< HEAD
      "execution_count": null,
=======
      "execution_count": 21,
>>>>>>> 418e4709b04a104199734d2f30a512c6e45b9776
      "metadata": {
        "colab": {
          "base_uri": "https://localhost:8080/",
          "height": 296
        },
        "id": "k4lA_Efe_uOx",
        "outputId": "0ac170c0-3298-4ebe-c2d7-33543b829fa5"
      },
<<<<<<< HEAD
      "outputs": [],
=======
      "outputs": [
        {
          "data": {
            "text/plain": [
              "Text(0.5, 0, 'Train Step')"
            ]
          },
          "execution_count": 21,
          "metadata": {},
          "output_type": "execute_result"
        },
        {
          "data": {
            "image/png": "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",
            "text/plain": [
              "<Figure size 640x480 with 1 Axes>"
            ]
          },
          "metadata": {},
          "output_type": "display_data"
        }
      ],
>>>>>>> 418e4709b04a104199734d2f30a512c6e45b9776
      "source": [
        "sample_learning_rate = CustomSchedule(d_model=128)\n",
        "\n",
        "plt.plot(sample_learning_rate(tf.range(200000, dtype=tf.float32)))\n",
        "plt.ylabel(\"Learning Rate\")\n",
        "plt.xlabel(\"Train Step\")"
      ]
    },
    {
      "cell_type": "markdown",
      "metadata": {
        "id": "w9tpZXei_1xK"
      },
      "source": [
        "# 챗봇 구현"
      ]
    },
    {
      "cell_type": "code",
<<<<<<< HEAD
      "execution_count": null,
=======
      "execution_count": 22,
>>>>>>> 418e4709b04a104199734d2f30a512c6e45b9776
      "metadata": {
        "id": "M5W2D7Uq_u_x"
      },
      "outputs": [],
      "source": [
        "import pandas as pd\n",
        "import urllib.request\n",
        "import tensorflow_datasets as tfds\n",
        "import tensorflow as tf\n",
        "import time\n",
        "import numpy as np\n",
        "import matplotlib.pyplot as plt\n",
        "import re"
      ]
    },
    {
      "cell_type": "code",
<<<<<<< HEAD
      "execution_count": null,
=======
      "execution_count": 23,
>>>>>>> 418e4709b04a104199734d2f30a512c6e45b9776
      "metadata": {
        "colab": {
          "base_uri": "https://localhost:8080/",
          "height": 205
        },
        "id": "t7ku6KRb_545",
        "outputId": "38f43203-6e81-4861-fc7e-d351e6a5ddae"
      },
<<<<<<< HEAD
      "outputs": [],
=======
      "outputs": [
        {
          "data": {
            "text/html": [
              "<div>\n",
              "<style scoped>\n",
              "    .dataframe tbody tr th:only-of-type {\n",
              "        vertical-align: middle;\n",
              "    }\n",
              "\n",
              "    .dataframe tbody tr th {\n",
              "        vertical-align: top;\n",
              "    }\n",
              "\n",
              "    .dataframe thead th {\n",
              "        text-align: right;\n",
              "    }\n",
              "</style>\n",
              "<table border=\"1\" class=\"dataframe\">\n",
              "  <thead>\n",
              "    <tr style=\"text-align: right;\">\n",
              "      <th></th>\n",
              "      <th>Q</th>\n",
              "      <th>A</th>\n",
              "      <th>label</th>\n",
              "    </tr>\n",
              "  </thead>\n",
              "  <tbody>\n",
              "    <tr>\n",
              "      <th>0</th>\n",
              "      <td>12시 땡!</td>\n",
              "      <td>하루가 또 가네요.</td>\n",
              "      <td>0</td>\n",
              "    </tr>\n",
              "    <tr>\n",
              "      <th>1</th>\n",
              "      <td>1지망 학교 떨어졌어</td>\n",
              "      <td>위로해 드립니다.</td>\n",
              "      <td>0</td>\n",
              "    </tr>\n",
              "    <tr>\n",
              "      <th>2</th>\n",
              "      <td>3박4일 놀러가고 싶다</td>\n",
              "      <td>여행은 언제나 좋죠.</td>\n",
              "      <td>0</td>\n",
              "    </tr>\n",
              "    <tr>\n",
              "      <th>3</th>\n",
              "      <td>3박4일 정도 놀러가고 싶다</td>\n",
              "      <td>여행은 언제나 좋죠.</td>\n",
              "      <td>0</td>\n",
              "    </tr>\n",
              "    <tr>\n",
              "      <th>4</th>\n",
              "      <td>PPL 심하네</td>\n",
              "      <td>눈살이 찌푸려지죠.</td>\n",
              "      <td>0</td>\n",
              "    </tr>\n",
              "  </tbody>\n",
              "</table>\n",
              "</div>"
            ],
            "text/plain": [
              "                 Q            A  label\n",
              "0           12시 땡!   하루가 또 가네요.      0\n",
              "1      1지망 학교 떨어졌어    위로해 드립니다.      0\n",
              "2     3박4일 놀러가고 싶다  여행은 언제나 좋죠.      0\n",
              "3  3박4일 정도 놀러가고 싶다  여행은 언제나 좋죠.      0\n",
              "4          PPL 심하네   눈살이 찌푸려지죠.      0"
            ]
          },
          "execution_count": 23,
          "metadata": {},
          "output_type": "execute_result"
        }
      ],
>>>>>>> 418e4709b04a104199734d2f30a512c6e45b9776
      "source": [
        "train_data = pd.read_csv('data\\ChatBotData.csv')\n",
        "train_data.head()"
      ]
    },
    {
      "cell_type": "code",
<<<<<<< HEAD
      "execution_count": null,
=======
      "execution_count": 24,
>>>>>>> 418e4709b04a104199734d2f30a512c6e45b9776
      "metadata": {
        "colab": {
          "base_uri": "https://localhost:8080/"
        },
        "id": "3hpk8Z-P_6hh",
        "outputId": "9f26f756-9e5e-4778-f4b6-7aa3fcd3a529"
      },
      "outputs": [],
      "source": [
        "print('챗봇 샘플의 개수 :', len(train_data))"
      ]
    },
    {
      "cell_type": "code",
<<<<<<< HEAD
      "execution_count": null,
=======
      "execution_count": 25,
>>>>>>> 418e4709b04a104199734d2f30a512c6e45b9776
      "metadata": {
        "colab": {
          "base_uri": "https://localhost:8080/"
        },
        "id": "bXg6ws2s_9Ch",
        "outputId": "12f1a60d-4d21-4b17-b82e-f6c2c58b2108"
      },
      "outputs": [],
      "source": [
        "print(train_data.isnull().sum())"
      ]
    },
    {
      "cell_type": "code",
<<<<<<< HEAD
      "execution_count": null,
=======
      "execution_count": 26,
>>>>>>> 418e4709b04a104199734d2f30a512c6e45b9776
      "metadata": {
        "id": "9AKOHALL_9rJ"
      },
      "outputs": [],
      "source": [
        "questions = []\n",
        "for sentence in train_data['Q']:\n",
        "    # 구두점에 대해서 띄어쓰기\n",
        "    # ex) 12시 땡! -> 12시 땡 !\n",
        "    sentence = re.sub(r\"([?.!,])\", r\" \\1 \", sentence)\n",
        "    sentence = sentence.strip()\n",
        "    questions.append(sentence)"
      ]
    },
    {
      "cell_type": "code",
<<<<<<< HEAD
      "execution_count": null,
=======
      "execution_count": 27,
>>>>>>> 418e4709b04a104199734d2f30a512c6e45b9776
      "metadata": {
        "id": "GoJs0Od8_-aB"
      },
      "outputs": [],
      "source": [
        "answers = []\n",
        "for sentence in train_data['A']:\n",
        "    # 구두점에 대해서 띄어쓰기\n",
        "    # ex) 12시 땡! -> 12시 땡 !\n",
        "    sentence = re.sub(r\"([?.!,])\", r\" \\1 \", sentence)\n",
        "    sentence = sentence.strip()\n",
        "    answers.append(sentence)"
      ]
    },
    {
      "cell_type": "code",
<<<<<<< HEAD
      "execution_count": null,
=======
      "execution_count": 28,
>>>>>>> 418e4709b04a104199734d2f30a512c6e45b9776
      "metadata": {
        "colab": {
          "base_uri": "https://localhost:8080/"
        },
        "id": "6AS2olsI__KJ",
        "outputId": "3e6686d6-507c-4453-c3a0-49d8ec415e47"
      },
<<<<<<< HEAD
      "outputs": [],
=======
      "outputs": [
        {
          "data": {
            "text/plain": [
              "11823"
            ]
          },
          "execution_count": 28,
          "metadata": {},
          "output_type": "execute_result"
        }
      ],
>>>>>>> 418e4709b04a104199734d2f30a512c6e45b9776
      "source": [
        "len(questions)"
      ]
    },
    {
      "cell_type": "code",
<<<<<<< HEAD
      "execution_count": null,
=======
      "execution_count": 29,
>>>>>>> 418e4709b04a104199734d2f30a512c6e45b9776
      "metadata": {
        "colab": {
          "base_uri": "https://localhost:8080/"
        },
        "id": "KM7QxzSG__9B",
        "outputId": "1da90ec9-8d20-4df9-ece0-1da24879bbd1"
      },
      "outputs": [],
      "source": [
        "print(questions[:5])\n",
        "print(answers[:5])"
      ]
    },
    {
      "cell_type": "code",
<<<<<<< HEAD
      "execution_count": null,
=======
      "execution_count": 30,
>>>>>>> 418e4709b04a104199734d2f30a512c6e45b9776
      "metadata": {
        "id": "iSYgYFMVABRq"
      },
      "outputs": [],
      "source": [
        "# 서브워드텍스트인코더를 사용하여 질문과 답변을 모두 포함한 단어 집합(Vocabulary) 생성\n",
        "tokenizer = tfds.deprecated.text.SubwordTextEncoder.build_from_corpus(\n",
        "    questions + answers, target_vocab_size=2**13)\n",
        "\n",
        "# 시작 토큰과 종료 토큰에 대한 정수 부여.\n",
        "START_TOKEN, END_TOKEN = [tokenizer.vocab_size], [tokenizer.vocab_size + 1]\n",
        "\n",
        "# 시작 토큰과 종료 토큰을 고려하여 단어 집합의 크기를 + 2\n",
        "VOCAB_SIZE = tokenizer.vocab_size + 2"
      ]
    },
    {
      "cell_type": "code",
<<<<<<< HEAD
      "execution_count": null,
=======
      "execution_count": 31,
>>>>>>> 418e4709b04a104199734d2f30a512c6e45b9776
      "metadata": {
        "colab": {
          "base_uri": "https://localhost:8080/"
        },
        "id": "Ln_by7YmGPTI",
        "outputId": "7a63ada7-5481-4b92-c45d-3e517e970c4b"
      },
      "outputs": [],
      "source": [
        "print('시작 토큰 번호 :',START_TOKEN)\n",
        "print('종료 토큰 번호 :',END_TOKEN)\n",
        "print('단어 집합의 크기 :',VOCAB_SIZE)"
      ]
    },
    {
      "cell_type": "code",
<<<<<<< HEAD
      "execution_count": null,
=======
      "execution_count": 32,
>>>>>>> 418e4709b04a104199734d2f30a512c6e45b9776
      "metadata": {
        "colab": {
          "base_uri": "https://localhost:8080/"
        },
        "id": "OnCM12LCACDB",
        "outputId": "0a22c38f-7b56-4ae0-f8f2-096ced558dd4"
      },
      "outputs": [],
      "source": [
        "# 서브워드텍스트인코더 토크나이저의 .encode()를 사용하여 텍스트 시퀀스를 정수 시퀀스로 변환.\n",
        "print('Tokenized sample question: {}'.format(tokenizer.encode(questions[20])))"
      ]
    },
    {
      "cell_type": "code",
<<<<<<< HEAD
      "execution_count": null,
=======
      "execution_count": 33,
>>>>>>> 418e4709b04a104199734d2f30a512c6e45b9776
      "metadata": {
        "colab": {
          "base_uri": "https://localhost:8080/"
        },
        "id": "X6616jr1ALcS",
        "outputId": "9d57ec4d-d86e-498b-83b6-c8b32c068069"
      },
      "outputs": [],
      "source": [
        "# 서브워드텍스트인코더 토크나이저의 .encode()와 decode() 테스트해보기\n",
        "\n",
        "# 임의의 입력 문장을 sample_string에 저장\n",
        "sample_string = questions[20]\n",
        "\n",
        "# encode() : 텍스트 시퀀스 --> 정수 시퀀스\n",
        "tokenized_string = tokenizer.encode(sample_string)\n",
        "print ('정수 인코딩 후의 문장 {}'.format(tokenized_string))\n",
        "\n",
        "# decode() : 정수 시퀀스 --> 텍스트 시퀀스\n",
        "original_string = tokenizer.decode(tokenized_string)\n",
        "print ('기존 문장: {}'.format(original_string))"
      ]
    },
    {
      "cell_type": "code",
<<<<<<< HEAD
      "execution_count": null,
=======
      "execution_count": 34,
>>>>>>> 418e4709b04a104199734d2f30a512c6e45b9776
      "metadata": {
        "colab": {
          "base_uri": "https://localhost:8080/"
        },
        "id": "ySXbL7GQAPhS",
        "outputId": "649fe380-d7c1-4cc3-d70d-7a274c53ae6f"
      },
      "outputs": [],
      "source": [
        "# 각 정수는 각 단어와 어떻게 mapping되는지 병렬로 출력\n",
        "# 서브워드텍스트인코더는 의미있는 단위의 서브워드로 토크나이징한다. 띄어쓰기 단위 X 형태소 분석 단위 X\n",
        "for ts in tokenized_string:\n",
        "  print ('{} ----> {}'.format(ts, tokenizer.decode([ts])))"
      ]
    },
    {
      "cell_type": "code",
<<<<<<< HEAD
      "execution_count": null,
=======
      "execution_count": 35,
>>>>>>> 418e4709b04a104199734d2f30a512c6e45b9776
      "metadata": {
        "id": "Dl69HqzjATYG"
      },
      "outputs": [],
      "source": [
        "# 최대 길이를 40으로 정의\n",
        "MAX_LENGTH = 40\n",
        "\n",
        "# 토큰화 / 정수 인코딩 / 시작 토큰과 종료 토큰 추가 / 패딩\n",
        "def tokenize_and_filter(inputs, outputs):\n",
        "  tokenized_inputs, tokenized_outputs = [], []\n",
        "  \n",
        "  for (sentence1, sentence2) in zip(inputs, outputs):\n",
        "    # encode(토큰화 + 정수 인코딩), 시작 토큰과 종료 토큰 추가\n",
        "    sentence1 = START_TOKEN + tokenizer.encode(sentence1) + END_TOKEN\n",
        "    sentence2 = START_TOKEN + tokenizer.encode(sentence2) + END_TOKEN\n",
        "\n",
        "    tokenized_inputs.append(sentence1)\n",
        "    tokenized_outputs.append(sentence2)\n",
        "  \n",
        "  # 패딩\n",
        "  tokenized_inputs = tf.keras.preprocessing.sequence.pad_sequences(\n",
        "      tokenized_inputs, maxlen=MAX_LENGTH, padding='post')\n",
        "  tokenized_outputs = tf.keras.preprocessing.sequence.pad_sequences(\n",
        "      tokenized_outputs, maxlen=MAX_LENGTH, padding='post')\n",
        "  \n",
        "  return tokenized_inputs, tokenized_outputs"
      ]
    },
    {
      "cell_type": "code",
<<<<<<< HEAD
      "execution_count": null,
=======
      "execution_count": 36,
>>>>>>> 418e4709b04a104199734d2f30a512c6e45b9776
      "metadata": {
        "id": "qJJc_H5oAWmC"
      },
      "outputs": [],
      "source": [
        "questions, answers = tokenize_and_filter(questions, answers)"
      ]
    },
    {
      "cell_type": "code",
<<<<<<< HEAD
      "execution_count": null,
=======
      "execution_count": 37,
>>>>>>> 418e4709b04a104199734d2f30a512c6e45b9776
      "metadata": {
        "colab": {
          "base_uri": "https://localhost:8080/"
        },
        "id": "4-iBwtZqAXxC",
        "outputId": "77915d6b-b400-4b6c-f4d6-43a4f43f2729"
      },
      "outputs": [],
      "source": [
        "print('질문 데이터의 크기(shape) :', questions.shape)\n",
        "print('답변 데이터의 크기(shape) :', answers.shape)"
      ]
    },
    {
      "cell_type": "code",
<<<<<<< HEAD
      "execution_count": null,
=======
      "execution_count": 38,
>>>>>>> 418e4709b04a104199734d2f30a512c6e45b9776
      "metadata": {
        "colab": {
          "base_uri": "https://localhost:8080/"
        },
        "id": "fUnwWj4pAYox",
        "outputId": "cbbe5ba7-e8d7-4fd4-9200-b90e6156b220"
      },
      "outputs": [],
      "source": [
        "# 0번째 샘플을 임의로 출력\n",
        "print(questions[0])\n",
        "print(answers[0])"
      ]
    },
    {
      "cell_type": "code",
<<<<<<< HEAD
      "execution_count": null,
=======
      "execution_count": 39,
>>>>>>> 418e4709b04a104199734d2f30a512c6e45b9776
      "metadata": {
        "colab": {
          "base_uri": "https://localhost:8080/"
        },
        "id": "ThFD6K_tAZN5",
        "outputId": "e025c4af-c668-420b-fde7-f209387cc142"
      },
      "outputs": [],
      "source": [
        "print('단어 집합의 크기(Vocab size): {}'.format(VOCAB_SIZE))\n",
        "print('전체 샘플의 수(Number of samples): {}'.format(len(questions)))"
      ]
    },
    {
      "cell_type": "code",
<<<<<<< HEAD
      "execution_count": null,
=======
      "execution_count": 40,
>>>>>>> 418e4709b04a104199734d2f30a512c6e45b9776
      "metadata": {
        "id": "_FXoh56KAaBx"
      },
      "outputs": [],
      "source": [
        "# 텐서플로우 dataset을 이용하여 셔플(shuffle)을 수행하되, 배치 크기로 데이터를 묶는다.\n",
        "# 또한 이 과정에서 교사 강요(teacher forcing)을 사용하기 위해서 디코더의 입력과 실제값 시퀀스를 구성한다.\n",
        "BATCH_SIZE = 64\n",
        "BUFFER_SIZE = 20000\n",
        "\n",
        "# 디코더의 실제값 시퀀스에서는 시작 토큰을 제거해야 한다.\n",
        "dataset = tf.data.Dataset.from_tensor_slices((\n",
        "    {\n",
        "        'inputs': questions,\n",
        "        'dec_inputs': answers[:, :-1] # 디코더의 입력. 마지막 패딩 토큰이 제거된다.\n",
        "    },\n",
        "    {\n",
        "        'outputs': answers[:, 1:]  # 맨 처음 토큰이 제거된다. 다시 말해 시작 토큰이 제거된다.\n",
        "    },\n",
        "))\n",
        "\n",
        "dataset = dataset.cache()\n",
        "dataset = dataset.shuffle(BUFFER_SIZE)\n",
        "dataset = dataset.batch(BATCH_SIZE)\n",
        "dataset = dataset.prefetch(tf.data.experimental.AUTOTUNE)"
      ]
    },
    {
      "cell_type": "code",
<<<<<<< HEAD
      "execution_count": null,
=======
      "execution_count": 41,
>>>>>>> 418e4709b04a104199734d2f30a512c6e45b9776
      "metadata": {
        "colab": {
          "base_uri": "https://localhost:8080/"
        },
        "id": "H9vu74odAaxB",
        "outputId": "5f39fab4-ffaf-4877-aa1b-b4d7c7f4569c"
      },
      "outputs": [],
      "source": [
        "# 임의의 샘플에 대해서 [:, :-1]과 [:, 1:]이 어떤 의미를 가지는지 테스트해본다.\n",
        "print(answers[0]) # 기존 샘플\n",
        "print(answers[:1][:, :-1]) # 마지막 패딩 토큰 제거하면서 길이가 39가 된다.\n",
        "print(answers[:1][:, 1:]) # 맨 처음 토큰이 제거된다. 다시 말해 시작 토큰이 제거된다. 길이는 역시 39가 된다."
      ]
    },
    {
      "cell_type": "code",
<<<<<<< HEAD
      "execution_count": null,
=======
      "execution_count": 42,
>>>>>>> 418e4709b04a104199734d2f30a512c6e45b9776
      "metadata": {
        "colab": {
          "base_uri": "https://localhost:8080/"
        },
        "id": "A0tcomE6AblR",
        "outputId": "c57c83df-d833-4bdb-85c0-c132215af4e1"
      },
      "outputs": [],
      "source": [
        "tf.keras.backend.clear_session()\n",
        "\n",
        "# Hyper-parameters\n",
        "NUM_LAYERS = 2\n",
        "D_MODEL = 256\n",
        "NUM_HEADS = 8\n",
        "DFF = 512\n",
        "DROPOUT = 0.1\n",
        "\n",
        "model = transformer(\n",
        "    vocab_size=VOCAB_SIZE,\n",
        "    num_layers=NUM_LAYERS,\n",
        "    dff=DFF,\n",
        "    d_model=D_MODEL,\n",
        "    num_heads=NUM_HEADS,\n",
        "    dropout=DROPOUT)"
      ]
    },
    {
      "cell_type": "code",
<<<<<<< HEAD
      "execution_count": null,
=======
      "execution_count": 43,
>>>>>>> 418e4709b04a104199734d2f30a512c6e45b9776
      "metadata": {
        "id": "w3qpxTy7Ainq"
      },
      "outputs": [],
      "source": [
        "MAX_LENGTH = 40\n",
        "\n",
        "learning_rate = CustomSchedule(D_MODEL)\n",
        "\n",
        "optimizer = tf.keras.optimizers.Adam(\n",
        "    learning_rate, beta_1=0.9, beta_2=0.98, epsilon=1e-9)\n",
        "\n",
        "def accuracy(y_true, y_pred):\n",
        "  # ensure labels have shape (batch_size, MAX_LENGTH - 1)\n",
        "  y_true = tf.reshape(y_true, shape=(-1, MAX_LENGTH - 1))\n",
        "  return tf.keras.metrics.sparse_categorical_accuracy(y_true, y_pred)\n",
        "\n",
        "model.compile(optimizer=optimizer, loss=loss_function, metrics=[accuracy])"
      ]
    },
    {
      "cell_type": "code",
<<<<<<< HEAD
      "execution_count": null,
=======
      "execution_count": 44,
>>>>>>> 418e4709b04a104199734d2f30a512c6e45b9776
      "metadata": {
        "colab": {
          "base_uri": "https://localhost:8080/"
        },
        "id": "jq-Ow4L0Aoqy",
        "outputId": "2fcee7c2-8fc2-4d8b-8004-1ad7a7b26c7d"
      },
<<<<<<< HEAD
      "outputs": [],
=======
      "outputs": [
        {
          "name": "stdout",
          "output_type": "stream",
          "text": [
            "Epoch 1/50\n",
            "185/185 [==============================] - 22s 49ms/step - loss: 1.4524 - accuracy: 0.0282\n",
            "Epoch 2/50\n",
            "185/185 [==============================] - 8s 45ms/step - loss: 1.1774 - accuracy: 0.0494\n",
            "Epoch 3/50\n",
            "185/185 [==============================] - 8s 45ms/step - loss: 1.0057 - accuracy: 0.0505\n",
            "Epoch 4/50\n",
            "185/185 [==============================] - 8s 42ms/step - loss: 0.9283 - accuracy: 0.0544\n",
            "Epoch 5/50\n",
            "185/185 [==============================] - 8s 41ms/step - loss: 0.8704 - accuracy: 0.0577\n",
            "Epoch 6/50\n",
            "185/185 [==============================] - 8s 41ms/step - loss: 0.8098 - accuracy: 0.0620\n",
            "Epoch 7/50\n",
            "185/185 [==============================] - 8s 41ms/step - loss: 0.7425 - accuracy: 0.0681\n",
            "Epoch 8/50\n",
            "185/185 [==============================] - 8s 42ms/step - loss: 0.6695 - accuracy: 0.0758\n",
            "Epoch 9/50\n",
            "185/185 [==============================] - 8s 45ms/step - loss: 0.5916 - accuracy: 0.0846\n",
            "Epoch 10/50\n",
            "185/185 [==============================] - 8s 46ms/step - loss: 0.5104 - accuracy: 0.0939\n",
            "Epoch 11/50\n",
            "185/185 [==============================] - 8s 44ms/step - loss: 0.4282 - accuracy: 0.1040\n",
            "Epoch 12/50\n",
            "185/185 [==============================] - 8s 44ms/step - loss: 0.3476 - accuracy: 0.1148\n",
            "Epoch 13/50\n",
            "185/185 [==============================] - 8s 45ms/step - loss: 0.2740 - accuracy: 0.1253\n",
            "Epoch 14/50\n",
            "185/185 [==============================] - 8s 44ms/step - loss: 0.2086 - accuracy: 0.1357\n",
            "Epoch 15/50\n",
            "185/185 [==============================] - 8s 44ms/step - loss: 0.1547 - accuracy: 0.1444\n",
            "Epoch 16/50\n",
            "185/185 [==============================] - 9s 49ms/step - loss: 0.1113 - accuracy: 0.1529\n",
            "Epoch 17/50\n",
            "185/185 [==============================] - 11s 58ms/step - loss: 0.0821 - accuracy: 0.1580\n",
            "Epoch 18/50\n",
            "185/185 [==============================] - 11s 61ms/step - loss: 0.0630 - accuracy: 0.1616\n",
            "Epoch 19/50\n",
            "185/185 [==============================] - 10s 51ms/step - loss: 0.0516 - accuracy: 0.1636\n",
            "Epoch 20/50\n",
            "185/185 [==============================] - 9s 51ms/step - loss: 0.0462 - accuracy: 0.1642\n",
            "Epoch 21/50\n",
            "185/185 [==============================] - 10s 53ms/step - loss: 0.0434 - accuracy: 0.1646\n",
            "Epoch 22/50\n",
            "185/185 [==============================] - 9s 48ms/step - loss: 0.0402 - accuracy: 0.1653\n",
            "Epoch 23/50\n",
            "185/185 [==============================] - 9s 47ms/step - loss: 0.0370 - accuracy: 0.1659\n",
            "Epoch 24/50\n",
            "185/185 [==============================] - 8s 46ms/step - loss: 0.0326 - accuracy: 0.1670\n",
            "Epoch 25/50\n",
            "185/185 [==============================] - 8s 45ms/step - loss: 0.0276 - accuracy: 0.1682\n",
            "Epoch 26/50\n",
            "185/185 [==============================] - 9s 47ms/step - loss: 0.0248 - accuracy: 0.1690\n",
            "Epoch 27/50\n",
            "185/185 [==============================] - 9s 48ms/step - loss: 0.0222 - accuracy: 0.1695\n",
            "Epoch 28/50\n",
            "185/185 [==============================] - 9s 47ms/step - loss: 0.0200 - accuracy: 0.1702\n",
            "Epoch 29/50\n",
            "185/185 [==============================] - 9s 47ms/step - loss: 0.0184 - accuracy: 0.1706\n",
            "Epoch 30/50\n",
            "185/185 [==============================] - 9s 48ms/step - loss: 0.0165 - accuracy: 0.1710\n",
            "Epoch 31/50\n",
            "185/185 [==============================] - 9s 47ms/step - loss: 0.0160 - accuracy: 0.1711\n",
            "Epoch 32/50\n",
            "185/185 [==============================] - 9s 47ms/step - loss: 0.0140 - accuracy: 0.1716\n",
            "Epoch 33/50\n",
            "185/185 [==============================] - 10s 52ms/step - loss: 0.0138 - accuracy: 0.1717\n",
            "Epoch 34/50\n",
            "185/185 [==============================] - 9s 47ms/step - loss: 0.0128 - accuracy: 0.1720\n",
            "Epoch 35/50\n",
            "185/185 [==============================] - 9s 47ms/step - loss: 0.0119 - accuracy: 0.1721\n",
            "Epoch 36/50\n",
            "185/185 [==============================] - 10s 55ms/step - loss: 0.0110 - accuracy: 0.1725\n",
            "Epoch 37/50\n",
            "185/185 [==============================] - 9s 49ms/step - loss: 0.0107 - accuracy: 0.1724\n",
            "Epoch 38/50\n",
            "185/185 [==============================] - 9s 48ms/step - loss: 0.0094 - accuracy: 0.1729\n",
            "Epoch 39/50\n",
            "185/185 [==============================] - 9s 46ms/step - loss: 0.0089 - accuracy: 0.1729\n",
            "Epoch 40/50\n",
            "185/185 [==============================] - 8s 46ms/step - loss: 0.0087 - accuracy: 0.1731\n",
            "Epoch 41/50\n",
            "185/185 [==============================] - 9s 48ms/step - loss: 0.0082 - accuracy: 0.1730\n",
            "Epoch 42/50\n",
            "185/185 [==============================] - 9s 50ms/step - loss: 0.0079 - accuracy: 0.1732\n",
            "Epoch 43/50\n",
            "185/185 [==============================] - 9s 50ms/step - loss: 0.0080 - accuracy: 0.1732\n",
            "Epoch 44/50\n",
            "185/185 [==============================] - 8s 46ms/step - loss: 0.0076 - accuracy: 0.1733\n",
            "Epoch 45/50\n",
            "185/185 [==============================] - 9s 48ms/step - loss: 0.0069 - accuracy: 0.1735\n",
            "Epoch 46/50\n",
            "185/185 [==============================] - 8s 46ms/step - loss: 0.0067 - accuracy: 0.1734\n",
            "Epoch 47/50\n",
            "185/185 [==============================] - 8s 46ms/step - loss: 0.0065 - accuracy: 0.1735\n",
            "Epoch 48/50\n",
            "185/185 [==============================] - 8s 45ms/step - loss: 0.0061 - accuracy: 0.1736\n",
            "Epoch 49/50\n",
            "185/185 [==============================] - 10s 55ms/step - loss: 0.0059 - accuracy: 0.1737\n",
            "Epoch 50/50\n",
            "185/185 [==============================] - 10s 52ms/step - loss: 0.0055 - accuracy: 0.1737\n"
          ]
        },
        {
          "data": {
            "text/plain": [
              "<keras.callbacks.History at 0x2d030454e20>"
            ]
          },
          "execution_count": 44,
          "metadata": {},
          "output_type": "execute_result"
        }
      ],
>>>>>>> 418e4709b04a104199734d2f30a512c6e45b9776
      "source": [
        "EPOCHS = 50\n",
        "\n",
        "model.fit(dataset, epochs=EPOCHS)"
      ]
    },
    {
      "cell_type": "code",
      "execution_count": 45,
      "metadata": {
        "id": "dOTNLOCdArDi"
      },
      "outputs": [],
      "source": [
        "def evaluate(sentence):\n",
        "  sentence = preprocess_sentence(sentence)\n",
        "\n",
        "  sentence = tf.expand_dims(\n",
        "      START_TOKEN + tokenizer.encode(sentence) + END_TOKEN, axis=0)\n",
        "\n",
        "  output = tf.expand_dims(START_TOKEN, 0)\n",
        "\n",
        "  # 디코더의 예측 시작\n",
        "  for i in range(MAX_LENGTH):\n",
        "    predictions = model(inputs=[sentence, output], training=False)\n",
        "\n",
        "    # 현재(마지막) 시점의 예측 단어를 받아온다.\n",
        "    predictions = predictions[:, -1:, :]\n",
        "    predicted_id = tf.cast(tf.argmax(predictions, axis=-1), tf.int32)\n",
        "\n",
        "    # 만약 마지막 시점의 예측 단어가 종료 토큰이라면 예측을 중단\n",
        "    if tf.equal(predicted_id, END_TOKEN[0]):\n",
        "      break\n",
        "\n",
        "    # 마지막 시점의 예측 단어를 출력에 연결한다.\n",
        "    # 이는 for문을 통해서 디코더의 입력으로 사용될 예정이다.\n",
        "    output = tf.concat([output, predicted_id], axis=-1)\n",
        "\n",
        "  return tf.squeeze(output, axis=0)\n",
        "\n",
        "\n",
        "def predict(sentence):\n",
        "  prediction = evaluate(sentence)\n",
        "\n",
        "  predicted_sentence = tokenizer.decode(\n",
        "      [i for i in prediction if i < tokenizer.vocab_size])\n",
        "\n",
        "  print('Input: {}'.format(sentence))\n",
        "  print('Output: {}'.format(predicted_sentence))\n",
        "\n",
        "  return predicted_sentence\n",
        "\n",
        "# 챗봇을 위한 아웃풋을 출력하는 chat 함수\n",
        "def chat(sentence):\n",
        "  prediction = evaluate(sentence)\n",
        "\n",
        "  predicted_sentence = tokenizer.decode(\n",
        "      [i for i in prediction if i < tokenizer.vocab_size])\n",
        "\n",
        "  return predicted_sentence\n"
      ]
    },
    {
      "cell_type": "code",
      "execution_count": 46,
      "metadata": {
        "id": "PAHvRASLBQyz"
      },
      "outputs": [],
      "source": [
        "def preprocess_sentence(sentence):\n",
        "  sentence = re.sub(r\"([?.!,])\", r\" \\1 \", sentence)\n",
        "  sentence = sentence.strip()\n",
        "  return sentence"
      ]
    },
    {
      "cell_type": "code",
      "execution_count": 47,
      "metadata": {
        "colab": {
          "base_uri": "https://localhost:8080/"
        },
        "id": "ujmHO_QdUTji",
        "outputId": "7a05d963-a4c4-4cf3-ec82-12cd8a1ad73b"
      },
      "outputs": [],
      "source": [
        "output = predict('영화 볼래?')"
      ]
    },
    {
      "cell_type": "code",
      "execution_count": 1,
      "metadata": {
        "colab": {
          "base_uri": "https://localhost:8080/"
        },
        "id": "V3H--FxhUUoC",
        "outputId": "5ec6c143-e819-474f-ae27-7598de1cb8b2"
      },
<<<<<<< HEAD
      "outputs": [],
=======
      "outputs": [
        {
          "ename": "NameError",
          "evalue": "name 'predict' is not defined",
          "output_type": "error",
          "traceback": [
            "\u001b[1;31m---------------------------------------------------------------------------\u001b[0m",
            "\u001b[1;31mNameError\u001b[0m                                 Traceback (most recent call last)",
            "Cell \u001b[1;32mIn [1], line 1\u001b[0m\n\u001b[1;32m----> 1\u001b[0m output \u001b[39m=\u001b[39m predict(\u001b[39m\"\u001b[39m\u001b[39m고민이 있어\u001b[39m\u001b[39m\"\u001b[39m)\n",
            "\u001b[1;31mNameError\u001b[0m: name 'predict' is not defined"
          ]
        }
      ],
>>>>>>> 418e4709b04a104199734d2f30a512c6e45b9776
      "source": [
        "output = predict(\"고민이 있어\")"
      ]
    },
    {
      "cell_type": "code",
      "execution_count": 49,
      "metadata": {
        "colab": {
          "base_uri": "https://localhost:8080/"
        },
        "id": "mW_bzLFCUWrg",
        "outputId": "31920f25-1f04-4cce-cd27-25b3779aa43e"
      },
<<<<<<< HEAD
      "outputs": [],
=======
      "outputs": [
        {
          "name": "stdout",
          "output_type": "stream",
          "text": [
            "Input: 너무 화가나\n",
            "Output: 안 만나는 게 마음이 편할 거예요 .\n"
          ]
        }
      ],
>>>>>>> 418e4709b04a104199734d2f30a512c6e45b9776
      "source": [
        "output = predict(\"너무 화가나\")"
      ]
    },
    {
      "cell_type": "code",
      "execution_count": 50,
      "metadata": {
        "colab": {
          "base_uri": "https://localhost:8080/"
        },
        "id": "QYqi9AeZUl_q",
        "outputId": "1ec54330-83e2-4d22-adcd-40d549405855"
      },
<<<<<<< HEAD
      "outputs": [],
=======
      "outputs": [
        {
          "name": "stdout",
          "output_type": "stream",
          "text": [
            "Input: 게임하고싶은데 할래?\n",
            "Output: 저는 사람이 있을 거예요 .\n"
          ]
        }
      ],
>>>>>>> 418e4709b04a104199734d2f30a512c6e45b9776
      "source": [
        "output = predict(\"게임하고싶은데 할래?\")"
      ]
    },
    {
      "cell_type": "code",
      "execution_count": 51,
      "metadata": {
        "colab": {
          "base_uri": "https://localhost:8080/"
        },
        "id": "O6GJLMO1UorF",
        "outputId": "5ebc60f7-0edc-4fd1-840b-4153e98cedbf"
      },
<<<<<<< HEAD
      "outputs": [],
=======
      "outputs": [
        {
          "name": "stdout",
          "output_type": "stream",
          "text": [
            "Input: 나 너 좋아하는 것 같아\n",
            "Output: 저는 위로해드리는 로봇이에요 .\n"
          ]
        }
      ],
>>>>>>> 418e4709b04a104199734d2f30a512c6e45b9776
      "source": [
        "output = predict(\"나 너 좋아하는 것 같아\")"
      ]
    },
    {
      "cell_type": "code",
      "execution_count": 52,
      "metadata": {
        "colab": {
          "base_uri": "https://localhost:8080/"
        },
        "id": "tUl6DCxFUvm2",
        "outputId": "80c1c121-570a-45a1-d5be-9d9d084d4ab6"
      },
<<<<<<< HEAD
      "outputs": [],
=======
      "outputs": [
        {
          "name": "stdout",
          "output_type": "stream",
          "text": [
            "Input: 딥 러닝 자연어 처리를 잘 하고 싶어\n",
            "Output: 저도 보고 싶어요 .\n"
          ]
        }
      ],
>>>>>>> 418e4709b04a104199734d2f30a512c6e45b9776
      "source": [
        "output = predict(\"딥 러닝 자연어 처리를 잘 하고 싶어\")"
      ]
    },
    {
      "cell_type": "code",
      "execution_count": 53,
      "metadata": {},
      "outputs": [
        {
          "name": "stdout",
          "output_type": "stream",
          "text": [
            "안녕하세요 .\n"
          ]
        }
      ],
      "source": [
        "print(chat(\"안녕\"))"
      ]
    },
    {
      "cell_type": "markdown",
      "metadata": {},
      "source": [
        "# 디스코드 챗봇 구현"
      ]
    },
    {
      "cell_type": "code",
      "execution_count": 2,
      "metadata": {},
      "outputs": [],
      "source": [
        "import discord\n",
        "from discord.ext import commands\n",
        "from discord.ext.commands import Bot\n",
        "import os\n",
        "import youtube_dl\n",
        "import asyncio\n",
        "import nacl #pynacl"
      ]
    },
    {
      "cell_type": "code",
      "execution_count": 3,
      "metadata": {},
      "outputs": [],
      "source": [
        "game = discord.Game(\"퐝퐝이\") \n",
        "\n",
        "intents = discord.Intents.all()\n",
        "\n",
        "bot = commands.Bot(command_prefix='푸앙아 ', status=discord.Status.online, activity=game, intents=intents)"
      ]
    },
    {
      "cell_type": "code",
      "execution_count": 4,
      "metadata": {},
      "outputs": [],
      "source": [
        "@bot.event\n",
        "async def on_ready():\n",
        "    print('다음으로 로그인합니다 : {0.user}'.format(bot))"
      ]
    },
    {
      "cell_type": "code",
      "execution_count": 5,
      "metadata": {},
      "outputs": [],
      "source": [
        "with open(\"puang-art.txt\", \"r\", encoding=\"utf-8\") as f:\n",
        "    data = f.read()"
      ]
    },
    {
      "cell_type": "code",
      "execution_count": 6,
      "metadata": {},
      "outputs": [],
      "source": [
        "@bot.command()\n",
        "async def Hello(ctx):\n",
        "    await ctx.send(\"안녕하세요!\")\n",
        "    \n",
        "@bot.command()\n",
        "async def 푸앙이(ctx):\n",
        "    await ctx.send(data)\n",
        "\n",
        "@bot.command()\n",
        "async def ㅁㄴㅇㄹ(ctx):\n",
        "    await ctx.send(\"/역할 요청하기 역할:@1분반\")\n",
        "\n",
        "@bot.command()\n",
        "async def 애옹(ctx):\n",
        "    await ctx.send(\"https://media.discordapp.net/attachments/844584876904677440/895539776709607454/95261-20211007-140653-000.gif\")\n",
        "\n",
        "@bot.command()\n",
        "async def 멈머이(ctx):\n",
        "    await ctx.send(\"https://media.discordapp.net/attachments/1039072581237624957/1044436169804484658/629b065f07bd59226785164e6a2310f1.gif\")\n",
        "\n",
        "@bot.command()\n",
        "async def 단수(ctx):\n",
        "    await ctx.send(\"https://media.discordapp.net/attachments/1039072581237624957/1044436780654547094/SneakyUnfortunateHermitcrab-size_restricted.gif\")"
      ]
    },
    {
      "cell_type": "code",
      "execution_count": 7,
      "metadata": {},
      "outputs": [],
      "source": [
        "@bot.command()\n",
        "async def 들어와(ctx):\n",
        "    if ctx.author.voice and ctx.author.voice.channel:\n",
        "        channel = ctx.author.voice.channel\n",
        "        await channel.connect()\n",
        "        await ctx.send(\"자 드가자~\")\n",
        "    else:\n",
        "        await ctx.send(\"음성 채널에 먼저 들어가주세요!\")\n",
        "\n",
        "@bot.command()\n",
        "async def 노래틀어줘(ctx, *, search):\n",
        "    channel = ctx.author.voice.channel\n",
        "    if bot.voice_clients != []:\n",
        "        await ctx.send(\"둠칫 두둠칫! \" + str(bot.voice_clients[0].channel) + \"에 연결되었습니다!\")\n",
        "\n",
        "        ydl_opts = {'format': 'bestaudio'}\n",
        "        FFMPEG_OPTIONS = {'before_options': '-reconnect 1 -reconnect_streamed 1 -reconnect_delay_max 5', 'options': '-vn'}\n",
        "        with youtube_dl.YoutubeDL(ydl_opts) as ydl:\n",
        "            info = ydl.extract_info(\"ytsearch:\" + search, download=False)\n",
        "            URL = info['entries'][0]['formats'][0]['url']\n",
        "        voice = bot.voice_clients[0]\n",
        "        voice.play(discord.FFmpegPCMAudio(URL, **FFMPEG_OPTIONS))\n",
        "    else:\n",
        "        await channel.connect()\n",
        "        await ctx.send(\"둠칫 두둠칫! \" + str(bot.voice_clients[0].channel) + \"에 연결되었습니다!\")\n",
        "\n",
        "        ydl_opts = {'format': 'bestaudio'}\n",
        "        FFMPEG_OPTIONS = {'before_options': '-reconnect 1 -reconnect_streamed 1 -reconnect_delay_max 5', 'options': '-vn'}\n",
        "        with youtube_dl.YoutubeDL(ydl_opts) as ydl:\n",
        "            info = ydl.extract_info(\"ytsearch:\" + search, download=False)\n",
        "            URL = info['entries'][0]['formats'][0]['url']\n",
        "        voice = bot.voice_clients[0]\n",
        "        voice.play(discord.FFmpegPCMAudio(URL, **FFMPEG_OPTIONS))\n",
        "    await ctx.send(\"지금 틀고 있는 노래는 \" + info['entries'][0]['title'] + \"입니다!\")\n",
        "        \n",
        "@bot.command()\n",
        "async def 일시정지(ctx):\n",
        "    if not bot.voice_clients[0].is_paused():\n",
        "        bot.voice_clients[0].pause()\n",
        "        await ctx.send(\"일시정지!\")\n",
        "    else:\n",
        "        await ctx.send(\"이미 일시정지 되어있어요!\")\n",
        "\n",
        "@bot.command()\n",
        "async def 재생(ctx):\n",
        "    if bot.voice_clients[0].is_paused():\n",
        "        bot.voice_clients[0].resume()\n",
        "        await ctx.send(\"재생!\")\n",
        "    else:\n",
        "        await ctx.send(\"이미 재생중이에요!\")\n",
        "\n",
        "@bot.command()\n",
        "async def 정지(ctx):\n",
        "    if bot.voice_clients[0].is_playing():\n",
        "        bot.voice_clients[0].stop()\n",
        "        await ctx.send(\"정지!\")\n",
        "    else:\n",
        "        await ctx.send(\"아무것도 재생중이지 않아요!\")\n",
        "\n",
        "@bot.command()\n",
        "async def 나가(ctx):\n",
        "    if bot.voice_clients != []:\n",
        "        await bot.voice_clients[0].disconnect()\n",
        "        await ctx.send(\"흐잉...\")\n",
        "    else:\n",
        "        await ctx.send(\"저는 아직 아무 채널에도 들어가있지 않아요!\")"
      ]
    },
    {
      "cell_type": "code",
      "execution_count": 8,
      "metadata": {},
      "outputs": [],
      "source": [
        "@bot.command()\n",
        "async def 대화(ctx, *, message):  \n",
        "    # 푸앙 메시지를 입력하면 chat(메시지) 함수를 출력합니다.\n",
        "    await ctx.send(chat(message))\n"
      ]
    },
    {
      "cell_type": "code",
      "execution_count": 9,
      "metadata": {},
      "outputs": [],
      "source": [
        "@bot.event\n",
        "async def on_command_error(ctx, error):\n",
        "    if isinstance(error, commands.CommandNotFound):\n",
        "        await ctx.send(\"Ah, 잘 알아두세요. 그런건 읎어요.\")"
      ]
    },
    {
      "cell_type": "code",
      "execution_count": 10,
      "metadata": {},
      "outputs": [
        {
          "name": "stdout",
          "output_type": "stream",
          "text": [
            "Requirement already satisfied: nest_asyncio in c:\\users\\administrator\\appdata\\roaming\\python\\python39\\site-packages (1.5.5)\n"
          ]
        }
      ],
      "source": [
        "# Colab에서는 이 코드를 실행하세요\n",
        "!pip install nest_asyncio \n",
        "import nest_asyncio \n",
        "nest_asyncio.apply()"
      ]
    },
    {
      "cell_type": "code",
      "execution_count": 13,
      "metadata": {},
      "outputs": [
        {
          "name": "stderr",
          "output_type": "stream",
          "text": [
            "[2022-11-29 23:36:09] [INFO    ] discord.client: logging in using static token\n",
            "[2022-11-29 23:36:09] [INFO    ] discord.client: logging in using static token\n",
            "[2022-11-29 23:36:09] [INFO    ] discord.client: logging in using static token\n",
            "\n",
            "KeyboardInterrupt\n",
            "\n"
          ]
        }
      ],
      "source": [
        "bot.run('여기에 토큰 입력')"
      ]
    }
  ],
  "metadata": {
    "accelerator": "GPU",
    "colab": {
      "collapsed_sections": [],
      "machine_shape": "hm",
      "name": "Transformer Korean Chatbot.ipynb",
      "provenance": []
    },
    "kernelspec": {
      "display_name": "Python 3.9.12 ('base')",
      "language": "python",
      "name": "python3"
    },
    "language_info": {
      "codemirror_mode": {
        "name": "ipython",
        "version": 3
      },
      "file_extension": ".py",
      "mimetype": "text/x-python",
      "name": "python",
      "nbconvert_exporter": "python",
      "pygments_lexer": "ipython3",
      "version": "3.9.12"
    },
    "vscode": {
      "interpreter": {
        "hash": "d735f6cc625ca8b095620eeb46a50be5e34ded063dbe74c6d5dc8e1ec88bb29c"
      }
    }
  },
  "nbformat": 4,
  "nbformat_minor": 0
}
